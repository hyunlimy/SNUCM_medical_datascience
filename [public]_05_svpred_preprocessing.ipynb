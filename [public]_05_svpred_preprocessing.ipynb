{
  "nbformat": 4,
  "nbformat_minor": 0,
  "metadata": {
    "kernelspec": {
      "display_name": "keras",
      "language": "python",
      "name": "lims1_keras"
    },
    "language_info": {
      "codemirror_mode": {
        "name": "ipython",
        "version": 3
      },
      "file_extension": ".py",
      "mimetype": "text/x-python",
      "name": "python",
      "nbconvert_exporter": "python",
      "pygments_lexer": "ipython3",
      "version": "3.8.10"
    },
    "colab": {
      "name": "[open] 04_svpred_preprocessing.ipynb",
      "provenance": [],
      "collapsed_sections": [],
      "include_colab_link": true
    }
  },
  "cells": [
    {
      "cell_type": "markdown",
      "metadata": {
        "id": "view-in-github",
        "colab_type": "text"
      },
      "source": [
        "<a href=\"https://colab.research.google.com/github/hyunlimy/SNUCM_medical_datascience/blob/main/%5Bpublic%5D_05_svpred_preprocessing.ipynb\" target=\"_parent\"><img src=\"https://colab.research.google.com/assets/colab-badge.svg\" alt=\"Open In Colab\"/></a>"
      ]
    },
    {
      "cell_type": "markdown",
      "metadata": {
        "id": "b1hOQtgTzLyk"
      },
      "source": [
        "# 의료데이터 사이언스의 이해와 실습 2022\n",
        "## 생체신호 데이터 활용 (2) <br> Stroke volume prediction using arterial wave - preprocessing\n",
        "- Author : **Hyun-Lim Yang, Ph.D.**<br>\n",
        "Research Assistant Professor @\n",
        "Seoul National University Hospital <br>\n",
        "Department of Anesthesiology and Pain Medicine\n",
        "- E-mail : hlyang{_at_}snu{_dot_}ac{_dot_}kr\n",
        "***"
      ]
    },
    {
      "cell_type": "code",
      "metadata": {
        "colab": {
          "base_uri": "https://localhost:8080/",
          "height": 17
        },
        "id": "SBuK2Zh0zLyo",
        "outputId": "02bd0cb6-7eb6-4e68-fde2-e40885bebeb9"
      },
      "source": [
        "from IPython.display import HTML\n",
        "style_warn = \"<style>div.warn { background-color: #fcf2f2;border-color: #dFb5b4; border-left: 5px solid #dfb5b4; padding: 0.5em;}</style>\"\n",
        "HTML(style_warn)"
      ],
      "execution_count": null,
      "outputs": [
        {
          "output_type": "execute_result",
          "data": {
            "text/html": [
              "<style>div.warn { background-color: #fcf2f2;border-color: #dFb5b4; border-left: 5px solid #dfb5b4; padding: 0.5em;}</style>"
            ],
            "text/plain": [
              "<IPython.core.display.HTML object>"
            ]
          },
          "metadata": {},
          "execution_count": 1
        }
      ]
    },
    {
      "cell_type": "markdown",
      "metadata": {
        "id": "5skhh3OKzLyq"
      },
      "source": [
        "### Import packages"
      ]
    },
    {
      "cell_type": "markdown",
      "metadata": {
        "id": "FfUSANd9zLyq"
      },
      "source": [
        "<div class=\"warn\">**Warning!** : use your directory at `download_directory`</div>\n"
      ]
    },
    {
      "cell_type": "markdown",
      "metadata": {
        "id": "1255GTubzLyr"
      },
      "source": [
        "> **Wargning** <br>\n",
        "> colab 환경을 위한 google drive import 코드가 포함되어 있습니다. <br>\n",
        "> 로컬 환경에서 실행 시 colab을 위한 import function들을 comment out 한 뒤 실행하세요. "
      ]
    },
    {
      "cell_type": "code",
      "metadata": {
        "colab": {
          "base_uri": "https://localhost:8080/"
        },
        "id": "t6WCQB5K2Gq7",
        "outputId": "eb1f5d0b-3bd9-483c-ac24-93e2b00dcf15"
      },
      "source": [
        "from google.colab import drive  # for colab\n",
        "drive.mount('/content/gdrive/')  # for colab"
      ],
      "execution_count": null,
      "outputs": [
        {
          "output_type": "stream",
          "name": "stdout",
          "text": [
            "Mounted at /content/gdrive/\n"
          ]
        }
      ]
    },
    {
      "cell_type": "code",
      "metadata": {
        "colab": {
          "base_uri": "https://localhost:8080/"
        },
        "id": "n281F9Px2LIW",
        "outputId": "c2670b17-bde6-4b01-f2f4-202415e3fdbd"
      },
      "source": [
        "import os\n",
        "cloud_directory = '/content/gdrive/My Drive/SNUCM_medical_datascience/'\n",
        "os.listdir(cloud_directory) # for colab, check cloud directory mount"
      ],
      "execution_count": null,
      "outputs": [
        {
          "output_type": "execute_result",
          "data": {
            "text/plain": [
              "['kohi_preprocessor.py',\n",
              " 'kohi_CNN_model_archi.png',\n",
              " 'data',\n",
              " '__pycache__',\n",
              " 'simple_cnn_weight_lowbp.h5',\n",
              " 'new_cnn_weight_balanced.h5']"
            ]
          },
          "metadata": {},
          "execution_count": 3
        }
      ]
    },
    {
      "cell_type": "code",
      "metadata": {
        "id": "xvK1qvZAzLyr"
      },
      "source": [
        "import os\n",
        "import sys\n",
        "download_directory = os.getcwd() # for local environments\n",
        "sys.path.append(download_directory) # for local environments\n",
        "sys.path.append(cloud_directory) # for colab\n"
      ],
      "execution_count": null,
      "outputs": []
    },
    {
      "cell_type": "code",
      "metadata": {
        "colab": {
          "base_uri": "https://localhost:8080/"
        },
        "id": "cINVgGZV2hyI",
        "outputId": "598a62ba-e802-44d5-ade7-6dba4b015567"
      },
      "source": [
        "!pip install vitaldb"
      ],
      "execution_count": null,
      "outputs": [
        {
          "output_type": "stream",
          "name": "stdout",
          "text": [
            "Requirement already satisfied: vitaldb in /usr/local/lib/python3.7/dist-packages (0.0.5)\n",
            "Requirement already satisfied: numpy in /usr/local/lib/python3.7/dist-packages (from vitaldb) (1.19.5)\n",
            "Requirement already satisfied: requests in /usr/local/lib/python3.7/dist-packages (from vitaldb) (2.23.0)\n",
            "Requirement already satisfied: pandas in /usr/local/lib/python3.7/dist-packages (from vitaldb) (1.1.5)\n",
            "Requirement already satisfied: pytz>=2017.2 in /usr/local/lib/python3.7/dist-packages (from pandas->vitaldb) (2018.9)\n",
            "Requirement already satisfied: python-dateutil>=2.7.3 in /usr/local/lib/python3.7/dist-packages (from pandas->vitaldb) (2.8.2)\n",
            "Requirement already satisfied: six>=1.5 in /usr/local/lib/python3.7/dist-packages (from python-dateutil>=2.7.3->pandas->vitaldb) (1.15.0)\n",
            "Requirement already satisfied: chardet<4,>=3.0.2 in /usr/local/lib/python3.7/dist-packages (from requests->vitaldb) (3.0.4)\n",
            "Requirement already satisfied: urllib3!=1.25.0,!=1.25.1,<1.26,>=1.21.1 in /usr/local/lib/python3.7/dist-packages (from requests->vitaldb) (1.24.3)\n",
            "Requirement already satisfied: certifi>=2017.4.17 in /usr/local/lib/python3.7/dist-packages (from requests->vitaldb) (2021.5.30)\n",
            "Requirement already satisfied: idna<3,>=2.5 in /usr/local/lib/python3.7/dist-packages (from requests->vitaldb) (2.10)\n"
          ]
        }
      ]
    },
    {
      "cell_type": "code",
      "metadata": {
        "id": "TKG-2vTFzLys"
      },
      "source": [
        "import numpy as np\n",
        "import pandas as pd\n",
        "import glob\n",
        "import kohi_preprocessor as pre\n",
        "import vitaldb\n",
        "from tqdm import tqdm\n",
        "import warnings\n",
        "warnings.filterwarnings(action='ignore')\n",
        "\n",
        "download_directory = cloud_directory # for colab\n"
      ],
      "execution_count": null,
      "outputs": []
    },
    {
      "cell_type": "markdown",
      "metadata": {
        "id": "SMDgPxgzzLys"
      },
      "source": [
        "### Data loading\n",
        "샘플 파일을 vitaldb 서버로 부터 직접 다운받아 로드"
      ]
    },
    {
      "cell_type": "markdown",
      "metadata": {
        "id": "fYExAUDqzLyt"
      },
      "source": [
        "> **TODO:** `00019.vital`을 100hz로 변환하여 `chart_pd_01`에 DataFrame으로 저장하기"
      ]
    },
    {
      "cell_type": "code",
      "metadata": {
        "colab": {
          "base_uri": "https://localhost:8080/"
        },
        "id": "tW4xFFhuzLyu",
        "outputId": "5548e571-e8ca-4ee0-a89f-de97f3c0be51"
      },
      "source": [
        "track_names = [\"EV1000/SV\", \"SNUADC/ART\"]\n",
        "### =========== Your code here ====================\n",
        "\n",
        "vitaldata = vitaldb.load_case(caseid=19, tnames=track_names, interval=1/100)\n",
        "chart_pd_01 = pd.DataFrame(vitaldata, columns = track_names)\n",
        "\n",
        "### ===============================================\n",
        "\n",
        "print(chart_pd_01.columns)"
      ],
      "execution_count": null,
      "outputs": [
        {
          "output_type": "stream",
          "name": "stdout",
          "text": [
            "Index(['EV1000/SV', 'SNUADC/ART'], dtype='object')\n"
          ]
        }
      ]
    },
    {
      "cell_type": "code",
      "metadata": {
        "id": "C7QgM5xczLyu"
      },
      "source": [
        "col_svs = 'EV1000/SV'\n",
        "col_art = 'SNUADC/ART'"
      ],
      "execution_count": null,
      "outputs": []
    },
    {
      "cell_type": "markdown",
      "metadata": {
        "id": "kCdy4rJvzLyv"
      },
      "source": [
        "### Stroke volume 데이터 추출"
      ]
    },
    {
      "cell_type": "code",
      "metadata": {
        "colab": {
          "base_uri": "https://localhost:8080/"
        },
        "id": "i-1w_jMKzLyv",
        "outputId": "0a34fcea-9d11-466c-a497-b15cfc8b37d5"
      },
      "source": [
        "# stroke volume 데이터 추출\n",
        "### =========== Your code here ====================\n",
        "\n",
        "svs_data_pd = chart_pd_01[col_svs][chart_pd_01[col_svs].notnull()]\n",
        "svs_index = svs_data_pd.index.values\n",
        "\n",
        "### ===============================================\n",
        "print(svs_data_pd.head())"
      ],
      "execution_count": null,
      "outputs": [
        {
          "output_type": "stream",
          "name": "stdout",
          "text": [
            "53845    61.0\n",
            "54008    61.0\n",
            "54208    61.0\n",
            "54408    61.0\n",
            "54607    61.0\n",
            "Name: EV1000/SV, dtype: float64\n"
          ]
        }
      ]
    },
    {
      "cell_type": "markdown",
      "metadata": {
        "id": "oHoJjKlwzLyv"
      },
      "source": [
        "### arterial wave 데이터 추출 및 nan 지우기"
      ]
    },
    {
      "cell_type": "code",
      "metadata": {
        "colab": {
          "base_uri": "https://localhost:8080/"
        },
        "id": "6HvdViM3zLyv",
        "outputId": "ae8c6908-5e53-420d-f10a-b12606bd247b"
      },
      "source": [
        "# art 데이터 전체 추출 및 nan value 채우기\n",
        "### =========== Your code here ====================\n",
        "\n",
        "art_full_pd = chart_pd_01[col_art]\n",
        "art_full_pd = art_full_pd.fillna(0)\n",
        "\n",
        "### ===============================================\n",
        "\n",
        "print(art_full_pd.head())"
      ],
      "execution_count": null,
      "outputs": [
        {
          "output_type": "stream",
          "name": "stdout",
          "text": [
            "0    0.0\n",
            "1    0.0\n",
            "2    0.0\n",
            "3    0.0\n",
            "4    0.0\n",
            "Name: SNUADC/ART, dtype: float64\n"
          ]
        }
      ]
    },
    {
      "cell_type": "markdown",
      "metadata": {
        "id": "wf3-q0ckzLyw"
      },
      "source": [
        "### 데이터셋 만들기\n",
        "필요한 파라미터들 정의"
      ]
    },
    {
      "cell_type": "code",
      "metadata": {
        "id": "3QYzmcVVzLyw"
      },
      "source": [
        "# 필요한 파라미터들 정의\n",
        "srate = 100\n",
        "length = 20\n",
        "max_limit_svs = 200 # svs max : 200\n",
        "min_limit_svs = 20  # svs min : 20"
      ],
      "execution_count": null,
      "outputs": []
    },
    {
      "cell_type": "code",
      "metadata": {
        "colab": {
          "base_uri": "https://localhost:8080/"
        },
        "id": "1n_wsq-NzLyw",
        "outputId": "d624a427-b201-473a-a397-0566fde9c0dd"
      },
      "source": [
        "# svs index를 20초 뒤로 미룸\n",
        "### =========== Your code here ====================\n",
        "\n",
        "svs_points = svs_index[svs_index > length*srate]\n",
        "\n",
        "### ===============================================\n",
        "\n",
        "print(svs_points)"
      ],
      "execution_count": null,
      "outputs": [
        {
          "output_type": "stream",
          "name": "stdout",
          "text": [
            "[  53845   54008   54208 ... 2700200 2700400 2700600]\n"
          ]
        }
      ]
    },
    {
      "cell_type": "markdown",
      "metadata": {
        "id": "61LdJYp5zLyw"
      },
      "source": [
        "### Arterial wave segment 추출"
      ]
    },
    {
      "cell_type": "code",
      "metadata": {
        "colab": {
          "base_uri": "https://localhost:8080/"
        },
        "id": "2julMg5jzLyw",
        "outputId": "1f285d9e-fc2e-438e-a2df-417e12730ff4"
      },
      "source": [
        "# arterial segment 추출하기\n",
        "### =========== Your code here ====================\n",
        "svs_values_list = [svs_data_pd[idx] for idx in svs_points]\n",
        "art_seg_list = [art_full_pd[idx-(length*srate):idx].values for idx in svs_points]\n",
        "\n",
        "### ===============================================\n",
        "\n",
        "svs_values_np = np.array(svs_values_list)\n",
        "art_seg_np = np.array(art_seg_list)\n",
        "\n",
        "print(svs_values_np)\n",
        "print(art_seg_np)"
      ],
      "execution_count": null,
      "outputs": [
        {
          "output_type": "stream",
          "name": "stdout",
          "text": [
            "[61. 61. 61. ... 63. 63. 63.]\n",
            "[[ 62.2872    62.2872    60.3123   ...  61.2998    65.2496    66.2371  ]\n",
            " [ 54.3876    56.3625    60.3123   ...  53.4001    51.4252    50.4377  ]\n",
            " [ 65.2496    64.2621    64.2621   ...  77.0991    71.1743    67.2245  ]\n",
            " ...\n",
            " [ 30.6886    -4.85986   -0.910027 ...  28.7137   -26.5839     8.96454 ]\n",
            " [ 20.814    -21.6466    34.6384   ...  22.7889   -11.7721    -2.88494 ]\n",
            " [ 19.8266   -21.6466    29.7011   ...  24.7639   -15.7219     3.0398  ]]\n"
          ]
        }
      ]
    },
    {
      "cell_type": "markdown",
      "metadata": {
        "id": "aO_fradkzLyx"
      },
      "source": [
        "### 조건에 따라 filter들 정의"
      ]
    },
    {
      "cell_type": "code",
      "metadata": {
        "colab": {
          "base_uri": "https://localhost:8080/"
        },
        "id": "DX2ctQtMzLyx",
        "outputId": "e8b5f7e8-14c8-4e72-a771-1fa8751f6dd7"
      },
      "source": [
        "# 필터들 선언\n",
        "# svs min-max filter\n",
        "\n",
        "### =========== Your code here ====================\n",
        "\n",
        "svs_max_filter = svs_values_np < max_limit_svs\n",
        "svs_min_filter = svs_values_np > min_limit_svs\n",
        "svs_filter = svs_max_filter & svs_min_filter\n",
        "\n",
        "### ===============================================\n",
        "\n",
        "\n",
        "# abp range filter\n",
        "\n",
        "### =========== Your code here ====================\n",
        "\n",
        "art_filter_list = []\n",
        "for seg in art_seg_np:\n",
        "    filter_value = (np.array(seg) > 25.0).all() and (np.array(seg) < 250.0).all()\n",
        "    art_filter_list.append(filter_value)\n",
        "art_filter = np.array(art_filter_list)\n",
        "\n",
        "### ===============================================\n",
        "\n",
        "\n",
        "# mstds 필터\n",
        "\n",
        "### =========== Your code here ====================\n",
        "\n",
        "mstds_values_list = []\n",
        "for seg in tqdm(art_seg_np):\n",
        "    if (np.array(seg) < 0.).any():\n",
        "        mstds_values_list.append(float(0.))\n",
        "    else:\n",
        "        mstd_val, _ = pre.process_beat(seg)\n",
        "        mstds_values_list.append(mstd_val)\n",
        "mstds_filter = np.array(mstds_values_list) > 0.\n",
        "\n",
        "### ===============================================\n"
      ],
      "execution_count": null,
      "outputs": [
        {
          "output_type": "stream",
          "name": "stderr",
          "text": [
            "100%|██████████| 13217/13217 [03:39<00:00, 60.27it/s]\n"
          ]
        }
      ]
    },
    {
      "cell_type": "markdown",
      "metadata": {
        "id": "DZkIcBLYzLyx"
      },
      "source": [
        "전체 필터 하나로 만들기"
      ]
    },
    {
      "cell_type": "code",
      "metadata": {
        "id": "I93VsDWxzLyx"
      },
      "source": [
        "### =========== Your code here ====================\n",
        "\n",
        "all_filters = svs_filter & art_filter & mstds_filter\n",
        "\n",
        "### ===============================================\n"
      ],
      "execution_count": null,
      "outputs": []
    },
    {
      "cell_type": "markdown",
      "metadata": {
        "id": "ZKWS-j7rzLyx"
      },
      "source": [
        "### 필터 적용하여 데이터 추출"
      ]
    },
    {
      "cell_type": "code",
      "metadata": {
        "colab": {
          "base_uri": "https://localhost:8080/"
        },
        "id": "gpljepIvzLyx",
        "outputId": "66cbfd65-40c7-424b-89f2-2adb748bcc39"
      },
      "source": [
        "# 필터 적용해서 추출\n",
        "\n",
        "### =========== Your code here ====================\n",
        "\n",
        "svs_filtered = svs_values_np[all_filters]\n",
        "art_filtered = art_seg_np[all_filters]\n",
        "\n",
        "### ===============================================\n",
        "\n",
        "print(svs_filtered.shape)\n",
        "print(art_filtered.shape)"
      ],
      "execution_count": null,
      "outputs": [
        {
          "output_type": "stream",
          "name": "stdout",
          "text": [
            "(12385,)\n",
            "(12385, 2000)\n"
          ]
        }
      ]
    },
    {
      "cell_type": "markdown",
      "metadata": {
        "id": "JP9N_3cMzLyy"
      },
      "source": [
        "데이터셋 정의"
      ]
    },
    {
      "cell_type": "code",
      "metadata": {
        "id": "0HaKykYfzLyy"
      },
      "source": [
        "x_data = art_filtered\n",
        "y_label = svs_filtered"
      ],
      "execution_count": null,
      "outputs": []
    },
    {
      "cell_type": "code",
      "metadata": {
        "colab": {
          "base_uri": "https://localhost:8080/"
        },
        "id": "DUzIt4D-zLyy",
        "outputId": "d344408f-cd06-4ac9-bd75-67745dce4417"
      },
      "source": [
        "print(x_data.shape)\n",
        "print(y_label.shape)"
      ],
      "execution_count": null,
      "outputs": [
        {
          "output_type": "stream",
          "name": "stdout",
          "text": [
            "(12385, 2000)\n",
            "(12385,)\n"
          ]
        }
      ]
    },
    {
      "cell_type": "code",
      "metadata": {
        "id": "_7FiFxFkzLyz"
      },
      "source": [
        ""
      ],
      "execution_count": null,
      "outputs": []
    },
    {
      "cell_type": "code",
      "metadata": {
        "id": "I58RBKhrzLyz"
      },
      "source": [
        ""
      ],
      "execution_count": null,
      "outputs": []
    },
    {
      "cell_type": "code",
      "metadata": {
        "id": "_LqjEEi6zLyz"
      },
      "source": [
        ""
      ],
      "execution_count": null,
      "outputs": []
    }
  ]
}