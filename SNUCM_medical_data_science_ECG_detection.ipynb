{
  "cells": [
    {
      "cell_type": "markdown",
      "metadata": {
        "id": "view-in-github",
        "colab_type": "text"
      },
      "source": [
        "<a href=\"https://colab.research.google.com/github/hyunlimy/SNUCM_medical_datascience/blob/main/SNUCM_medical_data_science_ECG_detection.ipynb\" target=\"_parent\"><img src=\"https://colab.research.google.com/assets/colab-badge.svg\" alt=\"Open In Colab\"/></a>"
      ]
    },
    {
      "cell_type": "markdown",
      "id": "impossible-sacramento",
      "metadata": {
        "tags": [],
        "id": "impossible-sacramento"
      },
      "source": [
        "# 의료데이터 사이언스의 이해와 실습 <br> 생체신호 데이터 활용 (1) - 심전도 (ECG) 데이터를 활용한 머신러닝, 딥러닝 실습\n",
        "- Author : **Hyun-Lim Yang, Ph.D.**<br>\n",
        "Research Assistant Professor @\n",
        "Seoul National University Hospital\n",
        "- E-mail : hlyang{_at_}snu{_dot_}ac{_dot_}kr\n",
        "***"
      ]
    },
    {
      "cell_type": "markdown",
      "id": "downtown-bangkok",
      "metadata": {
        "id": "downtown-bangkok"
      },
      "source": [
        "\n",
        "## 0. Goal\n",
        "#### Heart Arrhythmia Detection from ECG waveform with Deep  Learning model\n",
        "본 강의에서는 **딥러닝을 이용해서 ECG waveform을 분석하고 arrhythmia를 예측하는 방법**을 알아봅니다.<br>\n",
        "아래의 온라인 자료들을 활용하여 더 많은 정보를 확인할 수 있습니다.<br>\n",
        "(본 강의도 아래 자료의 내용을 참고하였습니다.)<br>\n",
        ">Reference source: <br>\n",
        "> https://github.com/andrewwlong/deep_arrhythmias <br>\n",
        "> https://towardsdatascience.com/detecting-heart-arrhythmias-with-deep-learning-in-keras-with-dense-cnn-and-lstm-add337d9e41f <br>\n",
        "> https://github.com/eddymina/ECG_Classification_Pytorch/blob/master/ECG_notebook.ipynb <br>\n",
        "***"
      ]
    },
    {
      "cell_type": "markdown",
      "id": "quarterly-draft",
      "metadata": {
        "id": "quarterly-draft"
      },
      "source": [
        "## 1. Backgrounds\n",
        "### 1-1. Dataset\n",
        "**MIT-BIH Arrhythmia dataset**을 활용하여 실습을 진행합니다. <br>\n",
        "(source: https://physionet.org/content/mitdb/1.0.0/) <br>\n",
        "이 데이터셋은 Boston's Beth Israel Hospital 에서 1975년 ~ 1979년 사이 in-patient & out-patient를 모두 포함하는 4000명 환자의 case에서, **23개 case를 랜덤 샘플**하고 **중요한 arrhythmia를 포함하는 25개 case를 임의로 선택**하여 구축하였습니다.<br>\n",
        "360Hz를 가지는 2-channel ECG waveform과 annotation을 포함합니다."
      ]
    },
    {
      "cell_type": "markdown",
      "id": "pressed-oxford",
      "metadata": {
        "id": "pressed-oxford"
      },
      "source": [
        "### 1-2. Deep Learning Framework \n",
        "본 실습에서는 **`Keras`**를 활용합니다. (official site: https://keras.io/ko/)<br>\n",
        "`Keras`는 **high-level open source deep learning framework**로 Tensorflow, PyTorch, Caffe, MXNet 등과 함께 많이 쓰이는 프레임워크 입니다.<br>\n",
        "특히 `Keras`는 개발 초기에는 독립된 high-level API 로써 `Tensorflow` 혹은 `Theano`를 backend로 하여 서비스를 제공하였으나, **최근 `Tensorflow 2.0`에 완전 통합**되어 `Tensorflow 2.0`을 통해 제공됩니다. High-level API의 특성상 개발의 자유도는 다소 떨어지나, 사용편의성이 매우 높아서 빠르게 결과물을 확인하고자 하는 인공지능 연구자들이나 산업계에서도 인기가 높습니다. 더욱이 초급자들이 딥러닝을 학습하기에 아주 좋은 framework 입니다.<br>\n",
        "사용자 편의를 위한 다양한 함수들을 제공하고 확장성 또한 우수한 편입니다. 파이썬과 매우 호환이 잘 되고 [pythonic](https://www.python.org/dev/peps/pep-0020/) 한 코드를 제공합니다."
      ]
    },
    {
      "cell_type": "markdown",
      "id": "scientific-sarah",
      "metadata": {
        "id": "scientific-sarah"
      },
      "source": [
        "### 1-3. Other packages\n",
        "이외에 사용되는 주요한 패키지는 다음과 같습니다:\n",
        "1. `wfdb` : MIT-BIH arrhythmia dataset을 배포하는 MIMIC 팀이 자체 데이터를 처리하기 위해 개발하고 배포하는 패키지 입니다. signal과 annotation data를 읽어오는데 사용합니다.\n",
        "2. `numpy` : 벡터, 행렬 연산에 특화된 패키지 입니다.\n",
        "3. `pandas` : 데이터 분석에 특화된 패키지 입니다. 데이터 전처리와 후처리에 활용합니다.\n",
        "4. `matplotlib` : Data visualization에 특화된 패키지 입니다. 각종 plotting에 활용합니다.\n",
        "5. `sklearn` : 기계학습에 특화된 패키지 입니다. 모델 성능 분석에 활용합니다.\n",
        "\n",
        "\n",
        "***"
      ]
    },
    {
      "cell_type": "markdown",
      "id": "polish-writer",
      "metadata": {
        "id": "polish-writer"
      },
      "source": [
        "## 2. Data Downloads and Basic Statistics"
      ]
    },
    {
      "cell_type": "code",
      "execution_count": null,
      "id": "leading-support",
      "metadata": {
        "id": "leading-support"
      },
      "outputs": [],
      "source": [
        "!pip install wfdb"
      ]
    },
    {
      "cell_type": "code",
      "execution_count": null,
      "id": "directed-arabic",
      "metadata": {
        "id": "directed-arabic"
      },
      "outputs": [],
      "source": [
        "import pandas as pd\n",
        "import numpy as np\n",
        "import matplotlib\n",
        "%matplotlib inline\n",
        "import matplotlib.pylab as plt\n",
        "import os\n",
        "import sys\n",
        "import glob\n",
        "import tqdm\n",
        "import random\n",
        "from itertools import cycle\n",
        "import warnings\n",
        "warnings.filterwarnings(action='ignore')\n",
        "\n",
        "import wfdb\n",
        "\n",
        "from sklearn.metrics import roc_auc_score, roc_curve, classification_report, auc\n",
        "from sklearn.preprocessing import label_binarize"
      ]
    },
    {
      "cell_type": "markdown",
      "id": "chief-frame",
      "metadata": {
        "id": "chief-frame"
      },
      "source": [
        "### 2.1 Data download\n",
        "실습에 사용될 데이터를 다운받습니다.<br>\n",
        "데이터 사이즈가 크지 않으므로 로컬로 mimic 홈페이지에서 바로 다운로드를 진행합니다<br>\n",
        "> **Warning!** <br>\n",
        "> 만약, 데이터 다운로드에 너무 오랜 시간이 걸리거나 오류가 있다면, 아래의 공유 링크를 클릭하여 '나의 드라이브에 바로가기 추가'를 하고, comment out한 코드를 실행시키세요. <br>\n",
        "> Link: https://drive.google.com/drive/folders/1GJJXU5VFAG1nJVeYX-Yy3a2kbaYwuDq3?usp=sharing"
      ]
    },
    {
      "cell_type": "code",
      "execution_count": null,
      "id": "owned-construction",
      "metadata": {
        "id": "owned-construction",
        "outputId": "781ca38b-337f-43db-e776-24e20b566a09"
      },
      "outputs": [
        {
          "data": {
            "text/plain": [
              "['mit-bih-arrhythmia-database-1.0.0.zip',\n",
              " '.ipynb_checkpoints',\n",
              " 'KOHI_base_ECG_detection_with_keras.ipynb',\n",
              " 'mit-bih-arrhythmia-database-1.0.0',\n",
              " 'mit-bih-arrhythmia-database-1.0.0.zip.1']"
            ]
          },
          "execution_count": 3,
          "metadata": {},
          "output_type": "execute_result"
        }
      ],
      "source": [
        "!wget https://www.physionet.org/static/published-projects/mitdb/mit-bih-arrhythmia-database-1.0.0.zip\n",
        "!unzip mit-bih-arrhythmia-database-1.0.0.zip\n",
        "\n",
        "download_directory = os.getcwd()\n",
        "sys.path.append(download_directory)\n",
        "os.listdir(download_directory)"
      ]
    },
    {
      "cell_type": "code",
      "execution_count": null,
      "id": "auburn-problem",
      "metadata": {
        "id": "auburn-problem"
      },
      "outputs": [],
      "source": [
        "# from google.colab import drive\n",
        "# drive.mount('/content/gdrive/')\n",
        "# cloud_directory = '/content/gdrive/My Drive/mit_bih_arrhythmia/'\n",
        "# download_directory = cloud_directory\n",
        "# os.listdir(cloud_directory)"
      ]
    },
    {
      "cell_type": "markdown",
      "id": "meaning-membrane",
      "metadata": {
        "id": "meaning-membrane"
      },
      "source": [
        "### 2-2. Data loading and basic statistics\n",
        "데이터는 48개 케이스로 구성되고 각 케이스는 `hea`, `atr`, `dat`, `xws` 파일로 구성되어 있습니다.<br>\n",
        "annotation 관련 정보는 `atr` 파일에 포함되어 있습니다.<br>\n",
        "`wfdb` 패키지의 `rdann` 함수를 사용하여 `atr` 파일 내의 annotation을 불러올 수 있습니다."
      ]
    },
    {
      "cell_type": "code",
      "execution_count": null,
      "id": "derived-marble",
      "metadata": {
        "id": "derived-marble",
        "outputId": "fb06ba0e-deff-4e84-f86b-36bf58f5b363"
      },
      "outputs": [
        {
          "name": "stdout",
          "output_type": "stream",
          "text": [
            "['117.xws', '209.hea', '107.xws', 'x_mitdb', '214.dat', '217.dat', '115.dat', '210.hea', '106.atr', '217.atr', '108.hea', '112.xws', '115.xws', '223.dat', '107.hea', '213.xws', '223.hea', '112.dat', '113.hea', '104.hea', '102-0.atr', '205.atr', '106.xws', '103.hea', '124.dat', '108.dat', '202.atr', '231.dat', '217.hea', '234.xws', '103.xws', '117.at_', '104.atr', '118.atr', '121.dat', '122.xws', '234.dat', '221.xws', '205.hea', '222.atr', '105.dat', '108.atr', '111.xws', '203.atr', '202.hea', '107.atr', '113.dat', '233.xws', '231.atr', '212.xws', '124.atr', '105.atr', 'ANNOTATORS', '213.dat', 'mitdbdir', '101.dat', '208.hea', '220.dat', '200.hea', '234.atr', '203.hea', '209.xws', '205.xws', '228.hea', '118.dat', '208.atr', '220.atr', '115.atr', '212.hea', '105.xws', '201.atr', '123.xws', '119.at_', '213.hea', '201.xws', '118.hea', '116.atr', '112.atr', '122.dat', '215.dat', '210.dat', '102.dat', '101.atr', '232.dat', '212.dat', '109.xws', '102.hea', '119.xws', '200.atr', '203.at_', '116.dat', '101.hea', '104.xws', '100.xws', '233.dat', '231.xws', '203.at-', '121.atr', '215.hea', '219.atr', '100.dat', '232.hea', '208.dat', '107.dat', '108.xws', '119.dat', '213.atr', '209.dat', '230.atr', '200.xws', '233.hea', '215.atr', '122.hea', '214.atr', '230.hea', '221.atr', '202.dat', '220.hea', '208.xws', '210.xws', '200.dat', '109.atr', '219.dat', '103.atr', '114.atr', '105.hea', '114.hea', '102.atr', '114.dat', '109.hea', '112.hea', '215.at_', '121.xws', '221.hea', '121.hea', '108.at_', '202.xws', '115.hea', '123.atr', '222.at_', '212.atr', '221.dat', '111.atr', '118.xws', '233.atr', '209.at_', '203.xws', '117.hea', '119.hea', '234.hea', '106.dat', '228.atr', '203.dat', '111.dat', '223.xws', '215.xws', '232.atr', '123.hea', '116.hea', 'SHA256SUMS.txt', '214.xws', 'RECORDS', '201.hea', '214.at_', '214.hea', '102.xws', '207.hea', '223.atr', '114.xws', '119.atr', '122.atr', '104.dat', '113.xws', '111.hea', '124.xws', '228.xws', '100.hea', '231.hea', '207.atr', '116.xws', '222.hea', '205.dat', '219.xws', '228.dat', '222.dat', '209.atr', '101.xws', '207.dat', '217.xws', '113.atr', '103.dat', '201.dat', '210.atr', '207.xws', '219.hea', '220.xws', '100.atr', '106.hea', '124.hea', '230.dat', '232.xws', '109.dat', '230.xws', '117.dat', '123.dat', '222.xws', '117.atr']\n"
          ]
        }
      ],
      "source": [
        "# datapath\n",
        "datapath = './mit-bih-arrhythmia-database-1.0.0/'\n",
        "# mimic dataset 파일 구성: hea, atr, dat, xws\n",
        "print(os.listdir(datapath))"
      ]
    },
    {
      "cell_type": "markdown",
      "id": "measured-sampling",
      "metadata": {
        "id": "measured-sampling"
      },
      "source": [
        "데이터에서 환자번호를 뽑아옵니다."
      ]
    },
    {
      "cell_type": "code",
      "execution_count": null,
      "id": "juvenile-cargo",
      "metadata": {
        "id": "juvenile-cargo"
      },
      "outputs": [],
      "source": [
        "header_files = [os.path.basename(x) for x in glob.glob(os.path.join(datapath, '*.hea'))]\n",
        "pids = sorted([x.split('.')[0] for x in header_files])"
      ]
    },
    {
      "cell_type": "code",
      "execution_count": null,
      "id": "multiple-diagram",
      "metadata": {
        "id": "multiple-diagram"
      },
      "outputs": [],
      "source": [
        "# annotation 파일 불러와서 label의 분포 확인\n",
        "df = pd.DataFrame()\n",
        "\n",
        "for pid in pids:\n",
        "    file = os.path.join(datapath, pid)\n",
        "    annotation = wfdb.rdann(os.path.join(file), 'atr')\n",
        "    symbols = annotation.symbol\n",
        "    \n",
        "    values, cnts = np.unique(symbols, return_counts=True)\n",
        "    df_sub = pd.DataFrame({'symbol': values, 'value': cnts, 'pid':[pid] * len(cnts)})\n",
        "    df = pd.concat([df, df_sub], axis=0)"
      ]
    },
    {
      "cell_type": "markdown",
      "id": "surprised-tissue",
      "metadata": {
        "id": "surprised-tissue"
      },
      "source": [
        "대부분의 annotation은 `N` symbol, 즉 정상 beat annotation을 가지고 있습니다."
      ]
    },
    {
      "cell_type": "code",
      "execution_count": null,
      "id": "right-arbor",
      "metadata": {
        "id": "right-arbor",
        "outputId": "7da2270f-adfd-4da6-acbc-8a47ead643e2"
      },
      "outputs": [
        {
          "data": {
            "text/plain": [
              "symbol\n",
              "N    75052\n",
              "L     8075\n",
              "R     7259\n",
              "V     7130\n",
              "/     7028\n",
              "A     2546\n",
              "+     1291\n",
              "f      982\n",
              "F      803\n",
              "~      616\n",
              "!      472\n",
              "\"      437\n",
              "j      229\n",
              "x      193\n",
              "a      150\n",
              "|      132\n",
              "E      106\n",
              "J       83\n",
              "Q       33\n",
              "e       16\n",
              "[        6\n",
              "]        6\n",
              "S        2\n",
              "Name: value, dtype: int64"
            ]
          },
          "execution_count": 8,
          "metadata": {},
          "output_type": "execute_result"
        }
      ],
      "source": [
        "# Annotation 파일의 분포\n",
        "df.groupby('symbol').value.sum().sort_values(ascending = False)"
      ]
    },
    {
      "cell_type": "markdown",
      "id": "surrounded-folks",
      "metadata": {
        "id": "surrounded-folks"
      },
      "source": [
        "MIT-BIH arrhythmia dataset에 포함되는 모든 annotation은 다음과 같습니다.<br>\n",
        "보다 자세한 내용은 아래 공식 홈페이지에서 확인할 수 있습니다.<br>\n",
        "\n",
        "> reference: <br> \n",
        "> https://www.physionet.org/physiobank/database/html/mitdbdir/tables.htm\n",
        "\n",
        "Beat annotations:<br>\n",
        "\n",
        "|Code\t|\tDescription    |\n",
        "| :-: | :- |\n",
        "| N\t|\tNormal beat <br>(displayed as \"·\" by the PhysioBank ATM, LightWAVE, pschart, and psfd)|\n",
        "|L\t|\tLeft bundle branch block beat |\n",
        "|R\t|\tRight bundle branch block beat |\n",
        "|B\t|\tBundle branch block beat (unspecified) |\n",
        "|A\t|\tAtrial premature beat |\n",
        "|a\t|\tAberrated atrial premature beat |\n",
        "|J\t|\tNodal (junctional) premature beat |\n",
        "|S\t|\tSupraventricular premature or ectopic beat (atrial or nodal) |\n",
        "|V\t|\tPremature ventricular contraction |\n",
        "|r\t|\tR-on-T premature ventricular contraction |\n",
        "|F\t|\tFusion of ventricular and normal beat |\n",
        "|e\t|\tAtrial escape beat |\n",
        "|j\t|\tNodal (junctional) escape beat |\n",
        "|n\t|\tSupraventricular escape beat (atrial or nodal) |\n",
        "|E\t|\tVentricular escape beat |\n",
        "|/\t|\tPaced beat |\n",
        "|f\t|\tFusion of paced and normal beat |\n",
        "|Q\t|\tUnclassifiable beat |\n",
        "|?\t|\tBeat not classified during learning |\n",
        "\n",
        "Non-beat annotations:<br>\n",
        "\n",
        "|Code\t|\tDescription|\n",
        "| :-: | :- |\n",
        "|\\[\t|\tStart of ventricular flutter/fibrillation |\n",
        "|!\t|\tVentricular flutter wave |\n",
        "|\\]\t|\tEnd of ventricular flutter/fibrillation |\n",
        "|x\t|\tNon-conducted P-wave (blocked APC) |\n",
        "|(\t|\tWaveform onset |\n",
        "|)\t|\tWaveform end |\n",
        "|p\t|\tPeak of P-wave |\n",
        "|t\t|\tPeak of T-wave |\n",
        "|u\t|\tPeak of U-wave |\n",
        "|\\`\t|\tPQ junction |\n",
        "|'\t|\tJ-point |\n",
        "|^\t|\t(Non-captured) pacemaker artifact |\n",
        "||\t|\tIsolated QRS-like artifact |\n",
        "|~\t|\tChange in signal quality |\n",
        "|+\t|\tRhythm change |\n",
        "|s\t|\tST segment change |\n",
        "|T\t|\tT-wave change |\n",
        "|*\t|\tSystole |\n",
        "|D\t|\tDiastole |\n",
        "|=\t|\tMeasurement annotation |\n",
        "|\"\t|\tComment annotation |\n",
        "|@\t|\tLink to external data |\n",
        "\n"
      ]
    },
    {
      "cell_type": "markdown",
      "id": "about-cemetery",
      "metadata": {
        "id": "about-cemetery"
      },
      "source": [
        "본 강좌에서는 non-beat annotation은 모두 무시하고, 정상과 비정상 beat만 구분하여 arrhythmia를 detect 할 수 있는 딥러닝 모델을 만들어 보겠습니다."
      ]
    },
    {
      "cell_type": "code",
      "execution_count": null,
      "id": "comprehensive-routine",
      "metadata": {
        "id": "comprehensive-routine"
      },
      "outputs": [],
      "source": [
        "# list of nonbeat and abnormal\n",
        "nonbeat = ['[','!',']','x','(',')','p','t','u','`',\n",
        "           '\\'','^','|','~','+','s','T','*','D','=','\"','@','Q','?']\n",
        "abnormal = ['L','R','V','/','A','f','F','j','a','E','J','e','S']"
      ]
    },
    {
      "cell_type": "code",
      "execution_count": null,
      "id": "banner-penny",
      "metadata": {
        "id": "banner-penny"
      },
      "outputs": [],
      "source": [
        "# normal, abnormal, nonbeat의 비율 구성 확인\n",
        "df['type'] = -1 # nonbeat\n",
        "df.loc[df.symbol == 'N', 'type'] = 0 # normal\n",
        "df.loc[df.symbol.isin(abnormal), 'type'] = 1 # abnormal"
      ]
    },
    {
      "cell_type": "code",
      "execution_count": null,
      "id": "cultural-reset",
      "metadata": {
        "id": "cultural-reset",
        "outputId": "9f0ca181-6334-4ae5-9966-3f3f54ebec97"
      },
      "outputs": [
        {
          "data": {
            "text/plain": [
              "type\n",
              "-1     3186\n",
              " 0    75052\n",
              " 1    34409\n",
              "Name: value, dtype: int64"
            ]
          },
          "execution_count": 11,
          "metadata": {},
          "output_type": "execute_result"
        }
      ],
      "source": [
        "df.groupby('type').value.sum()"
      ]
    },
    {
      "cell_type": "markdown",
      "id": "mechanical-professor",
      "metadata": {
        "id": "mechanical-professor"
      },
      "source": [
        "#### Define ECG data loading function\n",
        "`wfdb` 패키지를 이용하여 ECG waveform과 annotation을 불러올 수 있는 함수를 정의합니다.<br>\n",
        "`rdrecord` 함수를 이용하여 raw signal 데이터를 불러옵니다 <br>\n",
        "`rdann` 함수를 이용하여 annotation 데이터의 symbol 과 symbol의 index를 불러옵니다."
      ]
    },
    {
      "cell_type": "code",
      "execution_count": null,
      "id": "mighty-wrong",
      "metadata": {
        "id": "mighty-wrong"
      },
      "outputs": [],
      "source": [
        "# load single patient's ecg signal and annotation\n",
        "def load_ecg(file):\n",
        "    \"\"\"\n",
        "    wfdb.rdrecord 를 이용해서 ecg 파일을 읽어옵니다.\n",
        "    \"\"\"\n",
        "    \n",
        "    # load the ecg\n",
        "    record = wfdb.rdrecord(file)\n",
        "    # load the annotation\n",
        "    annotation = wfdb.rdann(file, 'atr')\n",
        "    \n",
        "    # extract the signal\n",
        "    p_signal = record.p_signal\n",
        "    \n",
        "    # verify frequency is 360\n",
        "    assert record.fs == 360, 'sample freq is not 360'\n",
        "    \n",
        "    # extract symbols and annotation index\n",
        "    atr_sym = annotation.symbol\n",
        "    atr_index = annotation.sample\n",
        "    \n",
        "    return p_signal, atr_sym, atr_index"
      ]
    },
    {
      "cell_type": "markdown",
      "id": "according-arbor",
      "metadata": {
        "id": "according-arbor"
      },
      "source": [
        "예시로 신호 데이터의 일부를 plotting 해보면 다음과 같습니다.<br>\n",
        "여기서, 각 변수는 다음을 의미합니다. <br>\n",
        "`p_signal` = raw ecg signal <br>\n",
        "`atr_sym` = annotation symbol <br>\n",
        "`atr_sample` = annotation index <br>"
      ]
    },
    {
      "cell_type": "code",
      "execution_count": null,
      "id": "conscious-extra",
      "metadata": {
        "id": "conscious-extra",
        "outputId": "5d350c3f-2f0c-4629-910a-f06e15564920"
      },
      "outputs": [
        {
          "data": {
            "text/plain": [
              "[<matplotlib.lines.Line2D at 0x7fa15c319a00>]"
            ]
          },
          "execution_count": 13,
          "metadata": {},
          "output_type": "execute_result"
        },
        {
          "data": {
            "image/png": "iVBORw0KGgoAAAANSUhEUgAAAXwAAAD6CAYAAACiefy7AAAAOXRFWHRTb2Z0d2FyZQBNYXRwbG90bGliIHZlcnNpb24zLjMuNCwgaHR0cHM6Ly9tYXRwbG90bGliLm9yZy8QVMy6AAAACXBIWXMAAAsTAAALEwEAmpwYAAA6XklEQVR4nO2dd3gc1dX/P2d31WyruMhNLjJgYxuDwRiDjSF0jCGYvG/yBhJqIIQESCPF/NIDaaQXEl4n4aUGQoAEAg7FhE4A2xjce5Ut23KXJavs7v39MTOr2dXKWu3OaK3d83kePdqZHc3cuZr5zplzzzlXjDEoiqIouU8g2w1QFEVRugcVfEVRlDxBBV9RFCVPUMFXFEXJE1TwFUVR8gQVfEVRlDzBE8EXkXtFZKeILO3gexGR34jIWhFZLCKTvDiuoiiKkjohj/ZzH/A74IEOvr8IGG3/nAr8wf59WAYMGGCqq6u9aaGiKEoesHDhwl3GmMpk33ki+MaY10Sk+jCbzAIeMFaW19siUiEiQ4wxtYfbb3V1NQsWLPCiiYqiKHmBiGzq6Lvu8uFXAVtcyzX2OkVRFKWb6C7BlyTrktZ0EJEbRWSBiCyoq6vzuVmKoij5Q3cJfg0w3LU8DNiWbENjzBxjzGRjzOTKyqRuKEVRFCUNukvwnwautqN1TgP2d+a/VxRFUbzFk0FbEXkEOAsYICI1wHeAAgBjzD3AXGAmsBZoBK7z4riKoihK6ngVpXNFJ98b4GYvjqUoiqKkh2baKoqi5Akq+Iqi9Ah21jfx3NLt2W5Gj0YFX1GUHsGnH1jITQ8tpL6pNdtN6bGo4CuK0iPYfbDZ/t2S5Zb0XFTwFUXpEfTtVQjALlv4la6jgq8oSo+gvKQAgF1q4aeNCr6iKD0CsQu0tEai2W1ID0YFX1GUHkUkmrQMl5ICKviKovQIxDbxwyr4aaOCrygZYozh96+sZfPuxmw3JaexEvYhElWXTrqo4CtKhuysb+au51bxqfvnZ7speYFa+Omjgq8oGRK1Lc+G5nCWW5IfqA8/fVTwFSVDVIC6l3BE+ztdVPAVJUNawupT7k70AZs+KviKkiEtdlx4snk8Fe+wPWe06qBt2qjgK0qGqIXfvUTUpZM2KviKkiEq+N2DwRJ6jdJJH08EX0RmiMgqEVkrIrOTfF8uIv8UkQ9EZJmI6BSHWSASNTS1RrLdjJzDEXwnMUjxB8d3rz789MlY8EUkCNwNXASMB64QkfEJm90MLDfGTMSa+/bnIlKY6bGVrvG5hxcy9lvPZbsZOUez1nbpFpzoHLXw08cLC38KsNYYs94Y0wI8CsxK2MYApWKZQH2APYAGLXczzy/bAbRlLCreoC6d7iEc1UzbTPFC8KuALa7lGnudm98B44BtwBLgC8YY/a9liWYVKE9Rwe8enAQ3tfDTxwvBT+a4TPyPXAi8DwwFTgR+JyJlSXcmcqOILBCRBXV1dR40T0nkgE4R5ylh2+LUNyd/iRr14WeKF4JfAwx3LQ/DsuTdXAc8aSzWAhuAscl2ZoyZY4yZbIyZXFlZ6UHzFIeCoPVsPtik3jQvcVz4KkP+4vSzWvjp44XgzwdGi8goeyD2cuDphG02A+cCiMgg4FhgvQfHVrpAr8IQAPUq+J7iWJ4ao+MvsWqZGoefNqFMd2CMCYvILcDzQBC41xizTERusr+/B7gDuE9ElmDdF183xuzK9NhK1wgFLEnSGYO8RV053YPzYNVM2/TJWPABjDFzgbkJ6+5xfd4GXODFsZTMUR+ot+jzs3uIXbd6+aaNZtrmIar33hJVC79bcLpZ+zt9VPDzEL1hvEVdOt2Dc92qwZI+Kvh5hHOfqOB7i7rIuodITPC1v9NFBT+PMBrH7AtOd2otHX9xxmpV79NHBT8P0RvGWxyLU107/mLUws8YFfw8RG8Yb9H+7B7UpZM5Kvh5iLp0vEVdOt1D1MT/VrqOCn4eojeMt+gDtHsw6jrLGBX8PERfib1FBah7cB6s+nxNHxX8PELDMv1BBah7aHPpaIeniwp+HuHcJ+qC8Bbtz+5BE68yRwU/D1EDyVvUt9w9RKPaz5migp+H6Cuxt2j0SPegLp3MUcHPQ9QF4S0aH949xFw6Wp00bVTw84g210OWG5JjqG+5e4jqgzVjVPDzkIjeMJ6iZXu7h1g5fO3mtFHBz0NUmLylLT5c+9VP1MLPHBX8PCIWh6++B09p8y1rv/qFMUbfpDzAE8EXkRkiskpE1orI7A62OUtE3heRZSLyqhfHVdJDdclbjLoafMd9zer1mz4Zz2krIkHgbuB8oAaYLyJPG2OWu7apAH4PzDDGbBaRgZkeV0kftZC8RV06/uPuW43DTx8vLPwpwFpjzHpjTAvwKDArYZtPAE8aYzYDGGN2enBcJU00LNNbHDHSwXD/cF+zevmmjxeCXwVscS3X2OvcjAH6isgrIrJQRK7uaGcicqOILBCRBXV1dR40T4mhrgdf0LBM/3Ffswbt6HTxQvCTFQFP/I+EgJOBi4ELgW+JyJhkOzPGzDHGTDbGTK6srPSgeUoiaol6S9vUe9qvfuF26WjiVfpk7MPHsuiHu5aHAduSbLPLGNMANIjIa8BEYLUHx1e6iPqavUUtfP9xGyl6/aaPFxb+fGC0iIwSkULgcuDphG2eAs4QkZCI9AJOBVZ4cGwlDTR80Fu0tIL/GJdVr92cPhlb+MaYsIjcAjwPBIF7jTHLROQm+/t7jDErROQ5YDEQBf5kjFma6bGV9FC99xZ3WKYxRqc69IGoWvie4IVLB2PMXGBuwrp7EpZ/CvzUi+Mp6aEToPhDvBhBUPXec9Sl4w2aaZtHaEaoP8SHDGrf+kF8HH4WG9LDUcHPI3ROUH9wC5AKvj9oH3uDCn4eEZviUG8YT1Hr03808cobVPDzCI0m8Qe3GGkWsz/ooK03qODnETEx0vvFU9war29P/uAkW4noW1QmqODnCVEdWPQNoy4d33Gu2VBA9PrNABX8PCExdFDxjjirXvvWF9oEP6CCnwEq+HlCRK1Q34iv1a6d6wfxFn6WG9ODUcHPE9wFp1SUvMXogKLvOCIfDIoWqcsAFfw8QYXIP9yROdrL/hDv0slyY3owKvh5gqam+4eGDPqP81DVQdvMUMHPEzRKxz/iLE7tWl9wLtlgQLQ0SAao4OcJcW4HvV88JapZoL7jGCkFQdHrNwNU8POE+EiS7LUjF1GXjv84BktAXToZoYKfJ8TfJHrDeElEw/B9xzFSNCwzM1Tw84S44lM6J6inxIVlqhr5gtHEK09Qwc8TtGa7f2h/+k8sSico+haVAZ4IvojMEJFVIrJWRGYfZrtTRCQiIh/14rhK6mj2v39ENKnNd9wuHU28Sp+MBV9EgsDdwEXAeOAKERnfwXY/wZr7VulmNA7fP+IzbbPYkBzGaOKVJ3hh4U8B1hpj1htjWoBHgVlJtrsVeALY6cExlS6iYZn+ET8BinauHzgGS1CjdDLCC8GvAra4lmvsdTFEpAr4CBA3sbnSfRgVJd/Q2Zj8J+bSsePw9RpODy8EX5KsS/xv/Ar4ujEm0unORG4UkQUisqCurs6D5imQ6NLJYkNyEGOsiTnspWw2JWdxV8sEfUtNl5AH+6gBhruWhwHbEraZDDwq1l0xAJgpImFjzD8Sd2aMmQPMAZg8ebL+Wz1CC3z5R9QYQgGhNWL0YeoTTrhrMGDZqFFjCCS1NZXD4YXgzwdGi8goYCtwOfAJ9wbGmFHOZxG5D3gmmdgr/qHlkf0jYgzBmOBr3/qB8yAtCErcstI1MhZ8Y0xYRG7Bir4JAvcaY5aJyE329+q3PwLQgUX/iEat6BGIqqvBJ6KuQVv3stI1vLDwMcbMBeYmrEsq9MaYa704ptI1dMYr/zC2hQ8qRH4RjaoP3ws00zZP0PLI/hGxffigQuQXbVE6bT58peuo4OcJWi3TP6KmzdWgOuQPiVE6KvjpoYKfJ2jilX8Yl4WvQuQP7X342WxNz0UFP0/QQVv/iEQNQTt6RHvWH9omQLEkS6/h9FDBzxM0Dt8/osaJ0lEL3y+csGK18DNDBT9P0FmZ/CMaNdg6pJanT0TUh+8JKvh5gnODiKh15DVWpq3jashyY3KUWLXMoAp+Jqjg5wlOzXatJ+49UeMWoiw3Jkdx+jUoGg2VCSr4eUJsxqBAQG8Wj4mPw9fO9YO2Ga90rCQTVPDzBOPygerN4i3xmbZZbkyOEm3n0slma3ouKvh5QmwCCbueuOId7igdtfD9IZJQWkEni08PFfw8we3SUQvfWyLRNgtfe9Yf2ua01cHxTFDBzxNM7IYRFSUP0eiR7iFWPC2W4Kb9nA4q+HlCJDaBhEbpeIljeQY0esRX2uLwnUHbbLam56KCnyc4N0xBUPRm8ZB2vmVVfF+IRPVNygtU8POEqFr4vpAYPaJd6w/GZbC4l5WuoYKfJ7gHvdTC9w5Hd9oGbbVz/SASq6WjLp1M8ETwRWSGiKwSkbUiMjvJ958UkcX2z1siMtGL4yqpEwvL1EFbT2nrV1uIoofbWkkXraXjDRkLvogEgbuBi4DxwBUiMj5hsw3Ah4wxJwB3AHMyPa7SNRyXTkFQXTpeEivbq0LkK06BOmdwXB+s6eGFhT8FWGuMWW+MaQEeBWa5NzDGvGWM2Wsvvg0M8+C4ShdwTyChouQdxhaegMbh+0rUGAIisaqkeg2nhxeCXwVscS3X2Os64nrgXx4cV+kCWkvHHxJdDfr25A8RYwgERMNfMyTkwT4kybqk/w4RORtL8Kd3uDORG4EbAUaMGOFB8xSIjybRAS/vSJx6T4XIH6JRQ1AEe6hELfw08cLCrwGGu5aHAdsSNxKRE4A/AbOMMbs72pkxZo4xZrIxZnJlZaUHzVPAVR45GFAr1EOi7eLws9ma3MWZKF5Ex0oywQvBnw+MFpFRIlIIXA487d5AREYATwJXGWNWe3BMpYtEXa4HvVe8I1anXac49JVI1CDuQVvt5rTI2KVjjAmLyC3A80AQuNcYs0xEbrK/vwf4NtAf+L39hA4bYyZnemwlddyJVypK3tEu8SqbjclhonYJap1KMjO88OFjjJkLzE1Yd4/r8w3ADV4cS0kP9+Ci3ire4a5RBCpEfhFxfPhq4WeEZtrmCWrh+4PTlQU6aOsrUWOFvoqGZWaECn6e4B700nvFOxzhCWjila+0S7zSfk4LFfw8IWKcG0bdDl7SPuU/m63JXSIm3qWjl3B6qODnCZaFZN0wKkreYWJx+DrFoZ9Eo07ilb2s/ZwWKvh5ghPlIOjN4iVtVUjV8vST2PUbE/zstqenooKfJ0Silv9Tffje0i5KR2OgfCFi2q5fUKMlXVTw84So7cMX9eF7SmIcvlqe/pA4aKvXcHqo4OcJkWhb4oreKt6ROAGKWp7+4L5+QV1n6aKCnye0ZSpqHL6XJM5pq13rD23lkfVNKhNU8POEqDGIWINeerN4R1SjdLoFR/A18SozVPDzBCc1XQdtvSUxSkcfpv7Q5tJRH34mqODnCZEobT58vVk8o309fO1bP4jYpRXUpZMZKvh5gjFWeVlBffheovXwuwdjDEE7UxzUpZMuKvh5QsRolI4fRBOidLRv/SESNQlx+FluUA9FBT9PcPvwo3q3eEa7evhqefpCJKG0gvZzeqjg5wnGVV5WbxXviFXL1AxQX4maxHr42s/poIKfJ0RcmYp6r3iHE4dfEHTCMrPZmtzFqofverBGs9ygHoongi8iM0RklYisFZHZSb4XEfmN/f1iEZnkxXGV1Ik4ccyodeQliVE66i3zhzYfvrWs13B6ZCz4IhIE7gYuAsYDV4jI+ITNLgJG2z83An/I9LhK14g6ccw6ibmnRGxLsyA2p612rh/EMsU1ozkjvLDwpwBrjTHrjTEtwKPArIRtZgEPGIu3gQoRGeLBsZUU0fLI/tBWWkFdOn7SNqettazXcHp4IfhVwBbXco29rqvbKD4SMdilFdTC95J2Lh316fhC1L5+NfEqM7wQfEmyLvHfkco21oYiN4rIAhFZUFdXl3HjFItotC1xRd0O3tFu0DabjclhLJck6sPPEC8EvwYY7loeBmxLYxsAjDFzjDGTjTGTKysrPWieAvEzBql15B3t6+Fr5/pBW+Kg5jtkgheCPx8YLSKjRKQQuBx4OmGbp4Gr7Wid04D9xphaD46tpEgkamKvxHqzeEdsxiudXNtXtDyyN4Qy3YExJiwitwDPA0HgXmPMMhG5yf7+HmAuMBNYCzQC12V6XKVrRI0hFAhYmbZ6s3iGe4pDnU3MP6JRR/DtZe3ntMhY8AGMMXOxRN297h7XZwPc7MWxlPSIRA1FIYkNphi7Pr6SGbFM29jkMlluUI4Sibkk1cLPBM20zROiCeVl1UDyBicO3wkZ1AFxf4hGiUu80jep9FDBzxPck5g7y0rmRGIWvlN6OssNylGsoAOtWZQpKvh5QmLiit4u3hB1DdpaEVDas34QaefDz257eioq+HmCM0WcqIXkKe5B24CWIvWNqDHqkvQAFfw8IRI1hIJuH2h225MruAdt1cL3j7b5HKxl7ef0UMHPE9peidVC8hJ3HL6WnvaPqEETrzxABT9PiBhDKKBxzF7jDNq2FabLbntylWjUmpNZE68yQwU/TwhHDMFAACcSXwXfG5xB24AO2vpKxGi1TC9Qwc8TIgnFp/R28YZYHL6rVrviPe2DDrLcoB6KCn6eYGUqBmI3jNEp4jwhFocv6FwDPuLMyQx2xVft57RQwc8THAu/LQ5fbxgviEadhDYdtPWTiJ04CNglLLSj00EFP0+IRK3iaTro5S1OjRdAffg+4oRlAlqzKANU8POENh+otazC5A1OFUdAK5H6RGxgXB+sGaOCnyeEo9G4QS+9X7zBeZCC4y7TjvUaZ5wkFGiz8PX6TQ8V/DwhGnUSV6xlHfTyBidcEOziaToY7jnhiJPrYMlVQHTu4HRRwc8TwtGolZqO+vC9JBo18dEjauF7Tth+ihYE1YefKSr4eYAxxpWabq9TYfIEJ4MZ1IfvF+4CdaA+/EzISPBFpJ+IvCgia+zffZNsM1xEXhaRFSKyTES+kMkxla7j3DChuEHbLDYoh7AymFWI/CQcTfDhB3Re5nTJ1MKfDbxkjBkNvGQvJxIGbjPGjANOA24WkfEZHlfpAmFXlINo8SlPCUcNBUHHt6zlkf2gvQ9f36TSJVPBnwXcb3++H7gscQNjTK0x5j37cz2wAqjK8LhKF4i6ohy0WmZyjDGsqzvY5b8LR6Jq4fuM48MPBdvGSrSf0yNTwR9kjKkFS9iBgYfbWESqgZOAdzI8rtIFwi4fqFPtRW+YeP6+aCvn/vxV3ly7q0t/F7bnGQC1PJPx1rpdPPX+1tjya6vreGHZ9i7tI5Lg0tGxkvQJdbaBiMwDBif56htdOZCI9AGeAL5ojDlwmO1uBG4EGDFiRFcOoXRAJNIm+PZbsd4wCby3eS8AK2oPcPoxA1L+OyuDuc3C126N5xN/tGy7suICzh47kKvvfReAjT++OOV9hBMHbcktl+Qtf3mPQWXFfOsS/z3dnQq+Mea8jr4TkR0iMsQYUysiQ4CdHWxXgCX2DxtjnuzkeHOAOQCTJ0/Onf9qFokkcelEVPGT0tAc6dL2rXbZadDiaYm4Rfn+/2xk9Y76uO+c8aTOcHz4oTgffs/v5237DvHwO5t4ZnEtALMvGhsbD/KLTPf+NHCN/fka4KnEDcT6r/4ZWGGM+UWGx1PSIOIatHWspFyykLrKYwu2UD37WapnP8u+xhYA6uqbAdiyt7FL+4pEo3Hx4fncr4n85LlVsc+vrKrjR/9aGVs+cCic8n6S+/A9amQWuf8/G7n75XWx5WXbOnR8eEamgv9j4HwRWQOcby8jIkNFZK69zenAVcA5IvK+/TMzw+PmBfOW7+CxBVsy3o/zSlzgKp4WyWNh+uY/lsY+n3znPL7w6CLeWrsbgM27uyb4YVdphWBA9M3JZl9jCw/8ZyNjB5cyeWS7aG322A/aVEjuw+/Z/Rx1FYNzWLBxj+/H7dSlcziMMbuBc5Os3wbMtD+/AaT27qbEccMDCwD4yb9WMvP4Idxx2YS09hO2Z+kIqkuHxpYwLeG2+geRqOGp97fFlncdbO7S/sIRQ4HL1RDR0goAPPHeVhpbIvzy4yfy5Hs1LNi0N+77/YdaU95Xog8/EKDHD5ZcevcbLN0ab9E/+PYmrp8+KmVXVzpopm0PYHdDCw++vQmAP7+xgWcWb+vkL+JpdXygQbdLx9s29hTW7LBCL4eWF/ORk9pHBx9oSt3VAG1F6cASpJ5ueXrF2p31DOhTyLghZcw6sX0/d0nwc8yH39gSbif2Ywb1YdPuRl5akXQY1DNU8I9QmlrbDx4+u7iWO55Zzi1/WdSlfTnWfEEwECutkI8Wfu3+QzEX2QPXn8rHTxke9/3wfiXUN6UuRJAQlqmCD8DLK3fy4vIdDK0oAWBCVTkrvj8jbpuuWfiJPvyeHZa5vq6h3bo/Xj2ZAX0KY4adX6jgH6Fs3Xeo3bqb//JeWvtqdbt0Avnrw//0Awt4+J3NAIwa0JsTh1cAUF5SQN9eBcycMITmcDTO5dMZ7rDMgOTng9TNweYw1903n10HWxhYWhxbX1IY5PWvnc2fr5kMwJ4uuM7a+/B7bjRUayTKfNtXf/30UVx5mhV6PrSihNOPGcCGXe0fBl6SkQ8/H1i2bT/BgDB2cFm3Hne5PWL/2GemsmVPI7f97YPYdyLQEo5SGErteR0btA1KbKAoH8vLbrIHZE8e2ZdgQAgGgqz/4UxErD562Lautuxt5OjKPint0x2WGTzCXQ2vrq5j695DfPyU4TE3lNfsONAU+zx2cGncd8P79aKqooTCYIBa13adEY4k+PCPsHr4r66uY8LQMvr3Kepwm5q9jbyyqo6n3t/K/I3WeMZXLzyWolCAO2ZNQEQYXF7M9gNNXQpZ7Soq+J1w8W/eAGDF92dQEBTufnkdg8qKuHyKf0lhL6/cya2PLKKqooRJIyqYPLIv6+oO8vtXrBAuYyz3xMj+vVPaX8R5Je4hUxweaokQCoqnMcl19c00tUY4aUQFf7x6cmy988ZTEBSOskX+2cW1fP7c0SntNy4s8wiM0jnYHGbp1v387PlVsYHT//f3JXx/1nFcPbXa8+Pt2G8J+c1nH80t5xzT7vtAQBhSUczWve3fYDuirXiaqx7+EaL4+w+1cs297zKwtIgPTxzKuCFlTD9mAANLizjYEmbTrkZ+++81FAQDPLukNu5viwuCccuDy4ppCUfZ29hKv96FvrRXBb8DNu1u4NH5bSGR4779HCeP7MtC+6apLC1i/NAyhpSXeHrcaNRw3X3zAbh66khCtuh9bcbYmOAD1OxNXfBjg7YBicVLHWnC5BCJGiZ+7wXOHTeQP1x5smf7XbOjntaI4SsXHNvhzXTmmEoG9CnkyfdqUhZ8d7XMoBwZgm+M4R/vb6W+Kcy3n1pGr8IgjS3xY0LffmoZQ8pLGDu4lOH9enl27B31luD/96Rh7QTNYfTAPrE32FSIJPXhZ7+fWyNRvva49ea9s76ZP7+xIfbdGaMH8PqarpXpGFxmucBq9x9Swe9uPvTTV9qtW+gKLbv+/gWM6NeL5754Bq0RQ6/CYMYW6dqd9Xzk7rcAuHTiUG4446i479+cfQ6bdjfwiT++Q00XEoRiUQ7BQCwx6Ei4YdzUN7VSGAowf8NeWiJR/rV0e9zkIpmyt9EaJBxwmNdugMrSYlbUHmBfYwsVvTq/6dzVMoMBoeUIiMtcub2eL/21zQWYKPYOn35gAUWhAG/ffi59PRKYlbVWNu2gsuIOtzlpRF/mrdhJfVMrpcUFne4zsTzykVJL5821u3h+2Y6k33Uk9qXFIe677hSG9W3/kB1cbvXZjgNNHDe03LuGulDB74Rzxw7kP+t3J71pNu9p5JLfvsH6ugamVPfjsZumZnSs+Rv3Ut9shQVeNXVkOz9rVUUJg0qLCAaELXu68krcZiE5U/AdSYJvjOH4777Qbv3nH13Ex08ZzhmjKzM+hpPo07f34QXmc2cdza2PLGLHgebUBN9VLfNIidJ5f8u+dusuOWEIowb05oRhFfx9UQ1zl1gFzJrDUU6640Ve++rZjOifmaX/8qqd/O9r6wHoXdSxtBwz0HKdra9rYKI9cH442vvwj4xM8eW1bW8pd330BNbXNVAYFN7duIe317dPorr57KO57fxjOzRiHMGv3Z/6+EZXUcFPgjtK46szjiUUCPDepr187YnF7bZ1Qqze3biHcCQac8Gkw15X9uGQ8uQWUigYYFjfEtbvSr2Ub9jl0mm175Nsux6eXVzLnc8uJ2oMp1T3S7rNM4treWVVHUu/d2HGx/vfVy13WEXJ4UXcuem2H2ji2IRBx2S0xtXDPzIGwzfujo/0+PDEofz2ipNiyx8aU8ncJf+K2+beNzdwwxmjKCspICBCfVMrh1oisXENsLJnP/PgQr51yXiG9S1p90C8+eHUosgmVJUjYj0gUhL8dj78I8PCX77tAKVFIf5563SqB7S5V/c2tHDZ79/ku5ceR79ehfxw7gre2bCH4X17HfaNtbJPEQGx3pKaWiMdusQyQQU/gUjU8INnlwNw13+fEIvOGVpRzNeeWMyM4wZz9MDezDx+CI8vrOH/3twY+9uXVu5k275DtEaiXHVaNSWFXfuH7W2wBP+288dQVdHx2MC4wWWsqK3v8PtEwq5B26ixPmfbEv3Dq2tjloxTPCr23Scn8VlbPA42h/nli6v51PRRLKnZT0CgolchW/Y2cuFxg1m5/QAra+u57KQqmsMR7n55HRceNyjulXjLnkZq9h7ivHGDOo1scvyoO1KMImmNRCkMunz4R4Dl6S4P8d0Pj+fa00fFfV8YCvDTj57AiH69+PictwG4762N3PfWxnb7euPrZ8fcD0++t5V3Nuzhkt9agQxOxcsH397Ejv1NHbqOEqmqKOGEqnLeSWIFJ6O9Dz/7168TXjntmP5xYg/Qt3chr3717NjyxOEVvLNhD9OOPnwV1lAwQGVpEQ++vYmNuxt48PpTPW+3Cn4CLy7fwf3/scLzRrpecXsVhnjlK2cxuLw49uQ9bmg58zfuiWXNfebBhbHtH52/hX/fdlZs+bml25nz2joev2lah0/53QdbGFpezK2dDBiOG1LG88u309AcPuyrs4M7LDMSdUordPpnvrK3oePEm4uOHxK3/OuX1vCfdbt5N6HWyMYfX8yMX70OQJ+iUKwUxetr6vj7507nUEuEJVv3x6o0fvXCYzttV2Wp5ePfmargh6NtFn4g+6UV6ptamb9xL2cfW8ntM8cxemDy8NKPTbaSzuZ/4zweW7CFnz6/Kul203/yMr++/ETeXLuLxxbUxH137xsb+MWLqznYHJ+d/L1Lj+u0neOHlvPIu5u5/cklfOHc0dzwwHx+/rETk75VHYk+/FXb69lxoJmZCddqMr58/hiumDIiJZdZVUUJOw40d3nAN1VU8BNw+z9PGFYR913ikxzgmVvPYOeBJqb88KW49evrGvjp8yu5Zmo1K7fXc9ND1sNg18FmBiYMaK2vO8hDb2/mtTV1jE9hsOa4oWUYY9XRnnP15E4Hi90+0LY5bbN3xxxsDrN13yGOGtCb31xxEq+urmPGhMH8a0ltbKB67OBSVm5ve4tJFHuAG22BB/jsw20P20Wb9/HVv33A4pr9rLLFvqw41KH4uSkuCNK3VwHbU7bwDQUhVxx+lpXoyj+9w66DzVT1LWHMoM5dUpWlRZwxekCHgg/whUffT7r++88sb7duw49mphRD7hhTj7y7mbKSEEu3HuAbf1/C45+d1m7bI9GH/1c7gm/8kM7zc4oLgoxKoh3J+OF/Hc+MX70eMzy8RgU/gXV1B6nu34uHbjg1ZZdMR5Efd7+8jiff2xo3CLOs9gADy4pZtHkvw/v1YkCfIh55dzP3vmmFdE0aUdHp8U6yt3l5VR0f/cNb9CkO8dD1p3Z4ozmZtgXBAMGA7dLJojCtt6cS/PpFY5lQVc6EKushd8s5bW82T3x2GodaI0y+c16H+3lheVuEhBN66vC3hfHW6Mkj+6Yc8TOif2/mLd/Jp04/SF19M6Mqe1MQCNAUjsSF4RpjaIlE46J0sunS2birgQ9q9gNw1pjDTj4XxwnDKnjm1umM7N+LvQ2t/HLeanY3tPDa6rq47cYNKaOqooR5K+IjU6YfM4D9h1o5c8yAlBOGLpowmB/b5ZL/91VroHfBpr1c9OvX+fL5YygtDnHqqH6ISAc+/OwKvpPTkGpodKqMHVzGZ848ilcT+t4rVPATWFd3kLGDy5KGTXVEICBUVZSw/UATv7viJJrCkVhYXOKI+2ceXMjUo/rz6uo6ggHhU6dX88fX2+J3px7Vv9PjuTP6nBt8857GDi++WGq6q3haNoXJyXgdeZhX3N5FIXoXhXjgU1PYuLuBbz+1jEkjKnhv8z4AvnnxOBZt3tcumQUsl8I/3t/KIntbgMkdDAwnY0p1X/74+gbO+fmrQPzbxm3nj+Hms48hEGgTosIjpJaOk5b/989N46QR7UsSHw7noVtaXMAvP34iAG+s2UU4GmX/oVaOruzDhKpymsMRHnhrE+eOG8irq+u4Zmp1WqGzI/v3ZuOPL+anz6+Mqwm/ovYAn7bf3O65chIzJgxJHoefRddZ7f5DrKg9wA3TR6Wc7d4Vbp85jttnjvN8v6CCH0c4EmXz7kZmHJdsRsfD88KXziRiDGXFBbRGovxj0TZErIkfPnvW0Vx12ki++Nf3eXfDntjTOxI1MbGfdnR/fv4/E1NO5PrOh8fzvX+2vVIv23YgJviHWiJc8tvX+fy5o5l1YhWtrvKyR0Km7eY9luAPT+GheuaYSs6kkouPH0JpcQF3PbeS4f16cc20aiJRw7c/PJ5TE9xp10yr5hOnjmDV9np+9sIqXllVF3srSoXbLjg27iHsdi39/MXVbNnbyF0fnRj35gTZj9LZYw/6e5W0M310+0HGolCQT59pud2OSrH8xOH41OmjmL9hL/9zynDueXUda3e2RZ/9a+l2ZkwY0n6KwywP2j6/1AppPTUF4+xIQ4unudjd0EI4amJV/rpC76IQZXYSSUEwwP2fmsL/XnUy37v0OG495xiGVpRw1rFt8eSf+VB8UtVFEwZ3KWv3utNHxUXyrN15kGjU8O6GPXz+0UWsq2uI+V6devjWBCjW9tkUpo27GhjQpzClAWeH/n2KKAwF+OYl47lmWjVgCcCgsmKmjLKs90c+fRpzP38GYP0PJlSV85srTuLOyyZw2qjUb87igiDP3Dq9w++f/mAbxhhaw21VSCH7UTp7Y7kG/mRp+kH/PkU8dtNUPnryMOZ9+UNcddpIAM4bN4gFds0Zd1gxWBb+2p0H+fJj77NlT9cmrOmMJTX7+dW81Um/a2qNcMczy5m/aS9lxSHOG5e62+xIIact/M27Gznzpy/z+E1TY6/0rZEo03/ybz59xlH86fUNXHDcIF5YtoMvnDea259cAuDZgElRKBgTJyAm0LecfQyfPvOomO/y5a+cxcg00tt/dfmJ3PfWRtbtPMgvXlzNL16Mv1DFHtwKJ6mHn604/BeWbedvC2tSGqtIlQevn0I4YpI+QMqKC7jSFpGuMKGqnJV3zKChOczJCeMITa1RDhwKx7JqnUHbQCC7robdDS2EAkJpFx6kRxrfvfQ4vnLhsTyxsIZ5K3awYVdDUgt/d0OLNT62r4nVO+r5wUcm0LdX4WGt7ve37GPbvkP0KQpRXlIQlwPQEo5yxl3/ZscBq4rnJ04dwYa6Bk49qj/hSJT5G/eyeU9DrHzClOp+vk5U4hcZXRki0g/4K1ANbAT+xxizt4Ntg8ACYKsx5pJMjtsZ0ajh208vjU128fUnFjNxWAWNLRF21Dex40Azdz67AoAH7BBMR+wB+vtkIc08fggt4SizTqyKWStAyiP4iZxS3Y9Tqvtx5zPL49wODlaRtaa4Qa82l052BP/BtzcRDAjfumS8Z/ssCgXxQ+OKC4IdJr/UHWyiV6F10Lg4fNeD1M+qh8nYuvcQQytKeqQQOQQDQnlJARdOGMz3n1nOvOU7iESjhAISO6+A6/z+s96amvKmh6y8jQ++fQHlveKzqZdu3c/v/r2W55Ztj1t/xZThjOjXmy17GxnQpygm9gBTfmC5CX/2sYn8/IVV7cbiTq7u2hjJkUKmt8ls4CVjzI9FZLa9/PUOtv0CsALwvc7wmp1WmKPDuroG1iWZdCAZJ4/sy/ih/jSxIBiIxT87FHkw6HPV1JG8tqaO1TvaZ9+u2l4fc+mEgm318BMFf2d9E9v2NVFaHMIYwzEDOw/p6yrGGBZt3sflpwzv8qBiNll5xwy27TvEOT9/lZKCIIdaI9Tub2KE/VYWF4dv9+uj725m9pNLeOFLZ6YUHukFm/c0xtrU0xlaXkwoIOw71BI3bzDA4Z5ntz66iGunjeRT9y3g7k9M4uIThvDwO5vaiT3AI+92Pl/0V1xlyd0km6e3J5Cp4M8CzrI/3w+8QhLBF5FhwMXAD4AvZ3jMTnluaft/bqo8ftPUbrOQHr9palrjBYmM7N+bF770IZ5bWsv00ZV8sGUfg8qKOe8Xr7Jye31s0DYUaKuHv7uhhRvuX8AnTx3BmWMq+eKj7/PWut2xfc778plU9+/drlREQ3OYcNRQXBCgORzl+/9czhfPG01Fr0KKQwFEpMNa6/XNYQ42h9N+o8kWxQVBjqrsw/9ddwpHD+jDmT99mQ+27IuVv2gLy7TeLr/z1NJY8t6Fv3qNiyYM5if/fYJVIndxLa+sruOOWcdRXBDkjmeW87HJwzlxeAXN4QjfeWoZYwaVsrexhdsuiE8U66zY2JY9jVyQRsDBkYiIUFZSwP5DrRSFgnFvxI6FP3ZwKZ88bSRvr9sdi9Z6bXVdLJz0//19CX9dsKVdeKkXnH7M4bNmj1QyFfxBxphaAGNMrYh0NIrxK+BrQLeYOr9MMuhy1rGVzJwwhOLCIM98sI2jB/ZhX2MLoUCAIRXF3PXcKq6dVt2tr8NdCRVMhRkTrKw/52IcXFbMmh31DKkotpOuBDuUmXnLd/De5n0s2bov7lXW4bxfvMaIfr146bYPxQRtZ30TU3/0byJRQ1VFCRefYJWXeHxhDQVBobS4gNOO6sfvP5m8rHFdvXWczipWHqmcfax1eU8aUcE/P6jlnLGDAHeUjrC7oSUm9mC51eYu2c6Ly3dQUhCMzZn7zw/a5iX+y7ub2fCji3l+2Y64ktyfP3c0oYAw57X1vLRiJ+9u3MMvPz6Rj5w0rF3btuxpZHdDS85Y+GAlyx04FKZf70CcEeF8PKqyN1edNpJPTBnBj//7+HYF+PYfao2J/WUnDqVf7yK+NuNYvvmPpRxsChM1hheW7+Coyt4cN7ScK08dwT/e3xqz/K+dVs37W/bFJWOeO9Yq2+1HOGZ30Kngi8g8IJnZ8I1UDiAilwA7jTELReSsFLa/EbgRYMSI9CYZ+dF/Hc/YwaXsa2xlyqh+vL1+N+eMHRgT80snDm33N+MGl/XYp3ZHDCwrYndDC5WlRTELybHwl9r1yN1i36swyLcuGc/PX1jNroPNbN7TyOhv/IvSohD1zWEuGD8o5qPeuu8Qc+zKiGAlPu1paGHuku2srzuYNGSvxp70wq8swu5i4vAKHl9QEwvLLAy19y2DlYXpVFRsjRhaI8knSDcGqmc/y9GV8W8+v3hxNWt21DPPNbH1vBU7+dCYge1CL51EsxOG+VNWNxuUlRRwoKmVspJQXDa508+97TGUYMAyNp65dTobdjVw6yPt53y+aupITh5pGVg/+9jE2PrXVtcxaWRf+tiDQKce1Z9ehSHufXMD3/nweESERZv3snXfIW75yyJao6bHij2kIPjGmPM6+k5EdojIENu6HwIkm3L9dOBSEZkJFANlIvKQMebKDo43B5gDMHny5LRGFq9ImI3q3HGDOv2bs8f2vBCrzii3X4lbIybOCgWSztt6xugBXDFlBL/799q49U7JZiez9fWvnc0Zd73c4XE/qNnXTvCX1OznmnvfBfDEjZVN+vUqpL45TEOL1S/uTFuH1756NuvqDsYms0mFxHGmP7gmvHF4dnEtzy6u5R83nx6bkxesUNeBpUU5ZbSUlxRw4FArkfLiBB++LfgJI/UTqspjuR1nHVvJPVeezM4Dzcx5fV27MikOZ45pX3r7W5eM55sXj4sd56QRfTm+qpxrp1VzrSvqrieS6aPqaeAa+/M1wFOJGxhjbjfGDDPGVAOXA//uSOwVbylzbphofM12h74J0QzX2VUVdx1mgunCUCA2N6nDf02qitvmS3/9gJdc6ff7G1t5aWXb8vC+PVvwnTh3x0WVTPBLi0OcOaaSP3xyEndeNoHSohBDy4spDAaoqijhiinD+dtNU/nSeWPi9n1KdV/uvGxCu2M+dfPp/OAjbevfWBPvl15Xd5BxKdR16UmUFbcZLKEkg7alxe3t1fJeBTzx2Wnc/YlJFBcEGdG/F3dednyXJydKdO2GggG+e+lxSetp9SQy9eH/GHhMRK4HNgMfAxCRocCfjDEzM9y/kgExCz9qYvOuOr/BsoheX7OLfr0Lee9b58fWTxnVj9fX7LLL0MLi717AL15YTdSY2NtTcYF1A9133SmcdexAzh07iIaWMD+cu4J9ja3c+OBC1v1wJs8t3c5NDy2k2i6jUFIQzGjOgCMBx53ilFBOfHsCy/oMBiRW+fPK00YSjRqixsSdf7/ehfxy3mqqKkrYuu8Qx1dVcOVpI6mrb6Z2/yEeW2CNj0wcXkEvV22nuUu2EwgIl58yAsHKtL7u9Gqfz7x7KSsJcaApTEs4GudGabbfTjtK3Du5h0bQdAcZCb4xZjdwbpL124B2Ym+MeQUrkkfpBgb0LmRvY4s1Kbg9WlvoEpuqihKe/Nw0+iZMZPH7T06idn8T5SUFtISjlBUX8N2EkrdDK0pYV9cQE7+LT7CE7fiqcq79v3fZcaCZzzy4IBbHvnF3I1UVJfzzMBmsPYUK+81opz3+4fSpE2JbEJSkft5AQAgQbzkeXdmHv39uGuOHlvHm2l2xgfwvnW9Z/reeMzq239GDSnno+lP58xvreXlVHctrD3DXc21VLo+vyh3/PVgW/oFDre0E/5DtSutKprZioT2WwxxV2YeosV73HXdDKBiIWe4D+hQxKUk8fGlxQadzjf7sYxN5+O1NTEgo5zxuSBkfO3k4v3t5bbv5Pj88cahvkzN3JzEL33Hp2IO2RQXtH6qp4OQkOFE/bhInGJ8+egBvrtvFy6vahxrOOrGq3bqeTFlJAc3hKAebw3EuGWeilT5F3s8Ilev07Hdr5bAM72f5yjfuaohz5TjJoP37pC++g8qK+fIFyefn7CiLt6cmqyTSr1dyl44j9AU+R3FcfPyQpJVGO8p/6KmUlVhGx66DzXEWvlMqxInSUVJHeyyHcYq5HWgKt5t0BeLLLHvJtadX8/yy7bGoEyeePFcioZy5XJ1B25hLx3ZfOe4zv5hQVc6rXz2b55bWUlIYoigUiE2PmUuU2YOyuw62xIWsFttjGX3UpdNltMdyGLdbJpTE+huQgYV/OAaWFvPSbWdRPftZAP5n8rAuzS9wpFMYClBaFGpn4bt9+N2Bk2iXq7gt/HFD2nI2S2zXWbanOeyJqEsnh3GHrYWSiFB3ZLyOGtA7p8TeoW/vwpgv2RF4R/CT9bXSdcpL2gwW97jIeXZezeDynp3Alw3Uws9hehUGrWn3oiapm8GvqqAOi751fmwgM9fo27swNpGL47MvClmuhgKfXTr5QpnrDdU9aHv99FFcfMKQLs0foVjolZnDiEjMz5msKmdiOKbX9O1dGCshnGu4k9bafPiOS0dvKy8YWtE27uQetBURFfs00Sszx4kJfpK67unMRapY9HM9LJ3xESd6pG/vw4e0KqnRq9DKTgZ6dP2aIwntxRzH8eO7faAD+hRphEOGOOUVCkOBWOasUy75mqnV2WpWzuHUXdK3Jm/Quz7Hcfygbl/6m7PPzlZzcgYn+cr9IJ1QVc6S717QadKakjpOYEHvQk2y8gIV/BzHsfCLXMLkDC4q6eOMfyRWHVWx9xbn+u1JE7Mfyeh7Uo4Tc+moD9RT+tl+emcic8UfnIJx3ZXbkOuoCuQ4jsXpxdy5Sht+RzgpFs5kOU7Og5IZ6tLJcdTC9wd1MXQP10yrZuPuRh0I9wgV/Bynjy346nnwlqEVJQSEdmWjFW8pLS6Im5JQyQwV/BzHyfoMR1XxvaRPUYh1P5zZrZPeK0qm6Ht+jrP/UCtg1bRRvEXFXulpqIWf43xq+ihaI9F2E7sripJ/ZGThi0g/EXlRRNbYv5POcCEiFSLyuIisFJEVIjI1k+MqqdOvdyG3zxwXm2pQUZT8JVOXzmzgJWPMaOAlezkZvwaeM8aMBSYCKzI8rqIoitJFMhX8WcD99uf7gcsSNxCRMuBM4M8AxpgWY8y+DI+rKIqidJFMBX+QMaYWwP6dbA67o4A64P9EZJGI/ElEOhxBFJEbRWSBiCyoq2s/UbOiKIqSHp0KvojME5GlSX5mpXiMEDAJ+IMx5iSggY5dPxhj5hhjJhtjJldWVqZ4CEVRFKUzOo3SMcac19F3IrJDRIYYY2pFZAiwM8lmNUCNMeYde/lxDiP4iqIoij9k6tJ5GrjG/nwN8FTiBsaY7cAWETnWXnUusDzD4yqKoihdJFPB/zFwvoisAc63lxGRoSIy17XdrcDDIrIYOBH4YYbHVRRFUbpIRolXxpjdWBZ74vptwEzX8vvA5EyOpSiKomSGGGOy3YYOEZE6YFOafz4A2OVhc3oCes75gZ5z7pPJ+Y40xiSNeDmiBT8TRGSBMSav3ir0nPMDPefcx6/z1eJpiqIoeYIKvqIoSp6Qy4I/J9sNyAJ6zvmBnnPu48v55qwPX1EURYknly18RVEUxUXOCb6IzBCRVSKyVkRypoSDiAwXkZft+QSWicgX7PUdzkkgIrfb/bBKRC7MXuszQ0SCduG9Z+zlnD7nZPNH5ME5f8m+rpeKyCMiUpxr5ywi94rIThFZ6lrX5XMUkZNFZIn93W+kK1OvGWNy5gcIAuuwKnQWAh8A47PdLo/ObQgwyf5cCqwGxgN3AbPt9bOBn9ifx9vnXwSMsvslmO3zSPPcvwz8BXjGXs7pc8YqNX6D/bkQqMjlcwaqgA1Aib38GHBtrp0zVpn4ScBS17ounyPwLjAVEOBfwEWptiHXLPwpwFpjzHpjTAvwKFbN/h6PMabWGPOe/bkeaxKZKjqek2AW8KgxptkYswFYi9U/PQoRGQZcDPzJtTpnz/kw80fk7DnbhIASEQkBvYBt5Ng5G2NeA/YkrO7SOdpFKsuMMf8xlvo/QJJ5SDoi1wS/CtjiWq6x1+UUIlINnAS8Q8dzEuRKX/wK+BoQda3L5XPuaP6InD1nY8xW4GfAZqAW2G+MeYEcPmcXXT3HKvtz4vqUyDXBT+bLyqkwJBHpAzwBfNEYc+BwmyZZ16P6QkQuAXYaYxam+idJ1vWoc6aL80eQA+ds+61nYbkuhgK9ReTKw/1JknU96pxToKNzzOjcc03wa4DhruVhWK+GOYGIFGCJ/cPGmCft1Tvs1zwS5iTIhb44HbhURDZiuefOEZGHyO1zTjZ/xCRy+5zPAzYYY+qMMa3Ak8A0cvucHbp6jjX258T1KZFrgj8fGC0io0SkELgcq2Z/j8ceif8zsMIY8wvXVx3NSfA0cLmIFInIKGA01mBPj8EYc7sxZpgxphrrf/lvY8yV5PY5dzR/RM6eM5Yr5zQR6WVf5+dijVHl8jk7dOkcbbdPvYicZvfV1SSZh6RDsj1y7cNI+EysCJZ1wDey3R4Pz2s61qvbYuB9+2cm0B94CVhj/+7n+ptv2P2wii6M5B+JP8BZtEXp5PQ5Y80ZscD+X/8D6JsH5/w9YCWwFHgQKzolp84ZeARrjKIVy1K/Pp1zxCo1v9T+7nfYCbSp/GimraIoSp6Qay4dRVEUpQNU8BVFUfIEFXxFUZQ8QQVfURQlT1DBVxRFyRNU8BVFUfIEFXxFUZQ8QQVfURQlT/j/NwXSTu0YXbQAAAAASUVORK5CYII=\n",
            "text/plain": [
              "<Figure size 432x288 with 1 Axes>"
            ]
          },
          "metadata": {
            "needs_background": "light"
          },
          "output_type": "display_data"
        }
      ],
      "source": [
        "file = os.path.join(datapath, pids[0])\n",
        "p_signal, atr_sym, atr_sample = load_ecg(file)\n",
        "plt.figure(figsize=(15, 8))\n",
        "plt.plot(p_signal[1000:2000, 0])"
      ]
    },
    {
      "cell_type": "markdown",
      "id": "usual-return",
      "metadata": {
        "id": "usual-return"
      },
      "source": [
        "이 환자 케이스에서 가지고 있는 annotation을 살펴보면 다음과 같습니다."
      ]
    },
    {
      "cell_type": "code",
      "execution_count": null,
      "id": "professional-tyler",
      "metadata": {
        "id": "professional-tyler",
        "outputId": "a09c08cb-2122-4a75-a9d7-66694f823a0c"
      },
      "outputs": [
        {
          "name": "stdout",
          "output_type": "stream",
          "text": [
            "+ 1\n",
            "A 33\n",
            "N 2239\n",
            "V 1\n"
          ]
        }
      ],
      "source": [
        "values, counts = np.unique(atr_sym, return_counts = True)\n",
        "for v, c in zip(values, counts):\n",
        "    print(v, c)"
      ]
    },
    {
      "cell_type": "markdown",
      "id": "assisted-tracy",
      "metadata": {
        "id": "assisted-tracy"
      },
      "source": [
        "이 중 abnormal에 해당되는 annotation의 위치를 살펴보면 다음과 같습니다."
      ]
    },
    {
      "cell_type": "code",
      "execution_count": null,
      "id": "impaired-october",
      "metadata": {
        "id": "impaired-october",
        "outputId": "fd164b7c-3f4d-40bc-e3d7-09601fbbf4b8"
      },
      "outputs": [
        {
          "data": {
            "text/plain": [
              "[2044, 66792, 74986, 99579, 128085, 170719, 279576, 305709, 307745, 312825]"
            ]
          },
          "execution_count": 15,
          "metadata": {},
          "output_type": "execute_result"
        }
      ],
      "source": [
        "# get abnormal beat index\n",
        "ab_index = [b for a,b in zip(atr_sym,atr_sample) if a in abnormal][:10]\n",
        "ab_index"
      ]
    },
    {
      "cell_type": "markdown",
      "id": "imported-trust",
      "metadata": {
        "id": "imported-trust"
      },
      "source": [
        "위의 abnormal에 해당되는 annotation의 index를 기준으로, 전후 3초의 ecg signal을 plotting 해보면 다음과 같습니다. "
      ]
    },
    {
      "cell_type": "code",
      "execution_count": null,
      "id": "intended-richardson",
      "metadata": {
        "id": "intended-richardson",
        "outputId": "b121bfa2-2dac-49c5-db27-62c69739d537"
      },
      "outputs": [
        {
          "data": {
            "image/png": "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\n",
            "text/plain": [
              "<Figure size 1080x576 with 1 Axes>"
            ]
          },
          "metadata": {
            "needs_background": "light"
          },
          "output_type": "display_data"
        }
      ],
      "source": [
        "x = np.arange(len(p_signal))\n",
        "left = ab_index[1]-(360*3) # 전 3초\n",
        "right = ab_index[1]+(360*3) # 후 3초\n",
        "\n",
        "plt.figure(figsize=(15, 8))\n",
        "plt.plot(x[left:right],p_signal[left:right,0],'-',label='ecg',)\n",
        "plt.plot(x[atr_sample],p_signal[atr_sample,0],'go',label ='normal')\n",
        "plt.plot(x[ab_index],p_signal[ab_index,0],'ro',label='abnormal')\n",
        "\n",
        "plt.xlim(left,right)\n",
        "plt.ylim(p_signal[left:right].min()-0.05,p_signal[left:right,0].max()+0.05)\n",
        "plt.xlabel('time index')\n",
        "plt.ylabel('ECG signal')\n",
        "plt.legend(bbox_to_anchor = (1.04,1), loc = 'upper left')\n",
        "plt.show()"
      ]
    },
    {
      "cell_type": "markdown",
      "id": "funded-familiar",
      "metadata": {
        "id": "funded-familiar"
      },
      "source": [
        "***"
      ]
    },
    {
      "cell_type": "markdown",
      "id": "dense-monaco",
      "metadata": {
        "id": "dense-monaco"
      },
      "source": [
        "## 3. Preparing dataset for deep learning\n",
        "\n",
        "### 3-1. Define functions to build dataset for deep learning\n",
        "이제 본격적으로 딥러닝에 사용할 데이터셋을 구축 해보겠습니다.<br>\n",
        "데이터셋 구축 방법은 딥러닝 모델의 구조와 추후 모델 활용 방식에 따라 여러가지가 있을 수 있습니다.<br>\n",
        "본 강의에서는 `n`초의 raw signal waveform내에 arrhythmia를 포함하는지 아닌지를 detect 할 수 있는 딥러닝 모델을 만들어 보겠습니다.<br>\n",
        "annotation 된 index를 기준으로, 전 후 `n/2`초의 raw signal을 하나의 segment로 자르고 그에 상응하는 annotation symbol을 label로 지정하여 데이터셋을 구축하겠습니다.<br>\n",
        "<br>\n",
        "우선 non-beat annotation을 제외하고 normal symbol과 abnormal symbol의 index만 추출합니다.<br>\n",
        "추출된 annotation index를 기준으로 순회하며 abnormal symbol인 경우는 `Y` 값에 `1`을 할당하고, normal beat는 `0`을 할당합니다.<br>\n",
        "또한 대응되는 annotation symbol을 별도로 추출하여 `symbol`값에 할당합니다."
      ]
    },
    {
      "cell_type": "code",
      "execution_count": null,
      "id": "incorporate-oasis",
      "metadata": {
        "id": "incorporate-oasis"
      },
      "outputs": [],
      "source": [
        "def build_dataset(pids, window_size, freq, abnormal):\n",
        "    \"\"\"\n",
        "    딥러닝 모델 학습을 위한 데이터를 구축합니다.\n",
        "    \"\"\"\n",
        "    ncols = window_size * freq\n",
        "    X_merged = np.zeros((1, ncols))\n",
        "    Y_merged = np.zeros((1,1))\n",
        "    symbol_merged = []\n",
        "    \n",
        "    rows_per_pid = []\n",
        "    \n",
        "    for pid in tqdm.tqdm(pids):\n",
        "        \n",
        "        filename = datapath + pid\n",
        "        p_signal, atr_sym, atr_sample = load_ecg(filename)\n",
        "        \n",
        "        p_signal = p_signal[:,0]\n",
        "        \n",
        "        # beat index (exclude non-beat)\n",
        "        beat_annotation_index = [x in (abnormal + ['N']) for x in atr_sym]\n",
        "        \n",
        "        X, Y, symbols = build_XY(signal=p_signal, \n",
        "                                 atr_sym = atr_sym, \n",
        "                                 atr_sample = atr_sample,\n",
        "                                 beat_index = beat_annotation_index, \n",
        "                                 nsec = window_size/2, \n",
        "                                 fs = freq,\n",
        "                                 ncols = ncols,\n",
        "                                 abnormal = abnormal)\n",
        "        \n",
        "        X_merged = np.append(X_merged, X, axis=0)\n",
        "        Y_merged = np.append(Y_merged, Y, axis=0)\n",
        "        symbol_merged = symbol_merged + symbols\n",
        "        rows_per_pid.append(Y.shape[0])\n",
        "        \n",
        "    # drop first zero rows\n",
        "    X_merged = X_merged[1:,:]\n",
        "    Y_merged = Y_merged[1:,:]\n",
        "    \n",
        "    # check sizes make sense\n",
        "    assert np.sum(rows_per_pid) == X_merged.shape[0], 'number of X, max_rows rows messed up'\n",
        "    assert Y_merged.shape[0] == X_merged.shape[0], 'number of X, Y rows messed up'\n",
        "    assert Y_merged.shape[0] == len(symbol_merged), 'number of Y, sym rows messed up'\n",
        "    \n",
        "    return X_merged, Y_merged, symbol_merged\n",
        "\n",
        "\n",
        "def build_XY(signal, atr_sym, atr_sample, beat_index, nsec, fs, ncols, abnormal):\n",
        "    \"\"\"\n",
        "    하나의 환자 id에서 signal과 annotation을 추출합니다.\n",
        "    \"\"\"\n",
        "    \n",
        "    num_rows = len(beat_index)\n",
        "\n",
        "    X = np.zeros((num_rows, ncols))\n",
        "    Y = np.zeros((num_rows,1))\n",
        "    symbols = []\n",
        "    \n",
        "    # keep track of rows\n",
        "    max_row = 0\n",
        "    \n",
        "    beat_atr_sym = np.array(atr_sym)[beat_index]\n",
        "    beat_atr_sample = np.array(atr_sample)[beat_index]\n",
        "\n",
        "    for sym, samp in zip(beat_atr_sym, beat_atr_sample):\n",
        "\n",
        "        left = int(max([0,(samp - nsec*fs) ]))\n",
        "        right = int(min([len(signal),(samp + nsec*fs) ]))\n",
        "        \n",
        "        x = signal[left: right]\n",
        "        if len(x) == ncols:\n",
        "            X[max_row,:] = x\n",
        "            Y[max_row,:] = int(sym in abnormal)\n",
        "            symbols.append(sym)\n",
        "            max_row += 1\n",
        "    X = X[:max_row,:]\n",
        "    Y = Y[:max_row,:]\n",
        "    return X, Y, symbols"
      ]
    },
    {
      "cell_type": "markdown",
      "id": "planned-printer",
      "metadata": {
        "id": "planned-printer"
      },
      "source": [
        "### 3-2. Build train and validation dataset\n",
        "train과 validation에 사용할 데이터셋을 각각 구축합니다.<br>\n",
        "일반적인 딥러닝 학습시에는 다음과 같이 데이터를 구축합니다.<br>\n",
        "1. `train dataset`\n",
        "2. `validation dataset`\n",
        "3. `test dataset`\n",
        "\n",
        "`train dataset`은 딥러닝 모델 학습에 사용되고, <br>\n",
        "`validation dataset`은 딥러닝 학습 시 overfitting 등을 검증하는데 활용되고,<br>\n",
        "`test dataset`은 딥러닝 모델 평가에 활용됩니다.<br>\n",
        "<br>\n",
        "본 강의에서는 편의상 `train dataset` 과 `validation dataset` 만 구축하여 모델을 학습하고 그 과정을 확인해보겠습니다. <br>\n",
        "<br>\n",
        "<font color='darkred'>여기서 주의할점은</font>, **case 기준으로 train과 validation을 구분해야 한다는 것**입니다.<br>\n",
        "case를 구분하지 않고 전체 sample에서 random하게 train/validation을 구분할 경우 딥러닝 모델의 성능은 우수한 것으로 나올 수 있지만 실제 성능은 (training data이외의 데이터에서 평가시) 성능이 떨어지는 경우가 발생할 수 있습니다.<br>\n"
      ]
    },
    {
      "cell_type": "code",
      "execution_count": null,
      "id": "beneficial-valley",
      "metadata": {
        "id": "beneficial-valley"
      },
      "outputs": [],
      "source": [
        "# 6초의 segment로 데이터 구축\n",
        "window_size = 6\n",
        "frequency = 360\n",
        "batch_size = 1000"
      ]
    },
    {
      "cell_type": "code",
      "execution_count": null,
      "id": "configured-waters",
      "metadata": {
        "id": "configured-waters"
      },
      "outputs": [],
      "source": [
        "# dataset split\n",
        "random.seed(77)\n",
        "pids_test = random.sample(pids, int(len(pids) / 4))\n",
        "pids_train = [pid for pid in pids if pid not in pids_test]"
      ]
    },
    {
      "cell_type": "code",
      "execution_count": null,
      "id": "dental-malawi",
      "metadata": {
        "id": "dental-malawi",
        "outputId": "837837c9-1415-4d57-9a48-db2d60a365dd"
      },
      "outputs": [
        {
          "name": "stderr",
          "output_type": "stream",
          "text": [
            "100%|██████████| 36/36 [00:10<00:00,  3.44it/s]\n",
            "100%|██████████| 12/12 [00:02<00:00,  5.77it/s]"
          ]
        },
        {
          "name": "stdout",
          "output_type": "stream",
          "text": [
            "Shape of train dataset: \n",
            " X: (82168, 2160) \n",
            " Y: (82168, 1) \n",
            " symbol: 82168 \n",
            "\n",
            "Shape of test dataset: \n",
            " X: (26931, 2160) \n",
            " Y: (26931, 1) \n",
            " symbol: 26931 \n",
            "\n"
          ]
        },
        {
          "name": "stderr",
          "output_type": "stream",
          "text": [
            "\n"
          ]
        }
      ],
      "source": [
        "# build dataset\n",
        "X_train, Y_train, symbol_train = build_dataset(pids_train, \n",
        "                                               window_size, \n",
        "                                               frequency, \n",
        "                                               abnormal)\n",
        "X_test, Y_test, symbol_test = build_dataset(pids_test,\n",
        "                                              window_size,\n",
        "                                              frequency,\n",
        "                                              abnormal)\n",
        "\n",
        "print(\"Shape of train dataset: \\n X: {} \\n Y: {} \\n symbol: {} \\n\".format(\n",
        "X_train.shape, Y_train.shape, len(symbol_train)))\n",
        "print(\"Shape of test dataset: \\n X: {} \\n Y: {} \\n symbol: {} \\n\".format(\n",
        "X_test.shape, Y_test.shape, len(symbol_test)))"
      ]
    },
    {
      "cell_type": "code",
      "execution_count": null,
      "id": "convinced-combining",
      "metadata": {
        "id": "convinced-combining",
        "outputId": "2dbc27c9-5618-46f3-eb45-4f646a6f0e84"
      },
      "outputs": [
        {
          "name": "stdout",
          "output_type": "stream",
          "text": [
            "['/' 'A' 'E' 'F' 'J' 'L' 'N' 'R' 'S' 'V' 'a' 'e' 'f' 'j']\n",
            "['/' 'A' 'F' 'L' 'N' 'R' 'V' 'a' 'j']\n"
          ]
        }
      ],
      "source": [
        "# train / test set symbol 확인\n",
        "print(np.unique(symbol_train))\n",
        "print(np.unique(symbol_test))"
      ]
    },
    {
      "cell_type": "code",
      "execution_count": null,
      "id": "critical-place",
      "metadata": {
        "id": "critical-place",
        "outputId": "9625e4be-14f1-486f-cf95-818bbfd5d258"
      },
      "outputs": [
        {
          "name": "stdout",
          "output_type": "stream",
          "text": [
            "30.569 %\n",
            "34.109 %\n"
          ]
        }
      ],
      "source": [
        "# train과 test set의 abnormal 비율 확인\n",
        "print('{:.3f} %'.format((Y_train.sum() / len(Y_train))* 100))\n",
        "print('{:.3f} %'.format((Y_test.sum() / len(Y_test))* 100))"
      ]
    },
    {
      "cell_type": "markdown",
      "id": "thrown-aside",
      "metadata": {
        "id": "thrown-aside"
      },
      "source": [
        "***"
      ]
    },
    {
      "cell_type": "markdown",
      "id": "billion-thriller",
      "metadata": {
        "id": "billion-thriller"
      },
      "source": [
        "## 4. Deep Learning model training - binary classification\n",
        "\n",
        "첫번째 예제로 binary classification (이진분류) 을 수행해 보겠습니다.<br>\n",
        "아주 단순한 Artificial Neural Network 모델을 사용할 것입니다.<br>\n",
        "딥러닝 모델의 예측 결과가 0인 경우 normal beat 에 해당되고 1인 경우 abnormal에 해당합니다."
      ]
    },
    {
      "cell_type": "code",
      "execution_count": null,
      "id": "romance-detection",
      "metadata": {
        "id": "romance-detection"
      },
      "outputs": [],
      "source": [
        "from tensorflow.keras.models import Sequential\n",
        "from tensorflow.keras.layers import Dense, Flatten, Dropout\n",
        "from tensorflow.keras import optimizers"
      ]
    },
    {
      "cell_type": "markdown",
      "id": "anticipated-remove",
      "metadata": {
        "id": "anticipated-remove"
      },
      "source": [
        "### 4-1. Define Fully Connected Network\n",
        "아주 간단한 딥러닝 모델을 정의합니다.<br>\n",
        "우선 다른 모듈을 사용하지 않고 단순한 linear layer 2개층을 가지는 네트워크를 생성해보겠습니다.<br>\n",
        "모델의 input은 2160 sized raw waveform (360\\*6=2160)이고 중간에 512개와 128개의 neuron을 갖는 layer를 하나 가지고 있는 단순한 네트워크 입니다.<br>\n",
        "이진 분류를 위해서 모델 output에 `sigmoid` 함수를 취합니다.<br>\n",
        "`Keras`에서는 모델을 선언 후 컴파일해주어야 합니다. 이때 loss function과 optimizer 등을 정의합니다."
      ]
    },
    {
      "cell_type": "code",
      "execution_count": null,
      "id": "fatty-banana",
      "metadata": {
        "id": "fatty-banana"
      },
      "outputs": [],
      "source": [
        "fcn_model = Sequential()\n",
        "fcn_model.add(Dense(512, activation = 'relu'))\n",
        "fcn_model.add(Dropout(rate=0.25))\n",
        "fcn_model.add(Dense(128, activation = 'relu'))\n",
        "fcn_model.add(Dropout(rate=0.25))\n",
        "fcn_model.add(Dense(1, activation='sigmoid'))\n",
        "\n",
        "adam_optimizer = optimizers.Adam(lr=0.00005)\n",
        "fcn_model.compile(loss='binary_crossentropy', optimizer=adam_optimizer, metrics=['accuracy'])"
      ]
    },
    {
      "cell_type": "markdown",
      "id": "intelligent-albania",
      "metadata": {
        "id": "intelligent-albania"
      },
      "source": [
        "### 4-2. Model fitting\n",
        "모델을 학습시킵니다.<br>\n",
        "학습 결과를 `train_history`에 저장하고 학습 과정동안의 loss 변화와 accuracy 변화를 확인합니다.<br>\n",
        "Training 데이터의 일부 (여기서는 20%) 를 validation을 위해 사용합니다."
      ]
    },
    {
      "cell_type": "code",
      "execution_count": null,
      "id": "polar-violation",
      "metadata": {
        "id": "polar-violation",
        "outputId": "a827933c-8590-48bf-93d8-519e6486b060"
      },
      "outputs": [
        {
          "name": "stdout",
          "output_type": "stream",
          "text": [
            "Epoch 1/10\n",
            "66/66 [==============================] - 2s 11ms/step - loss: 0.5557 - accuracy: 0.7332 - val_loss: 0.4101 - val_accuracy: 0.8415\n",
            "Epoch 2/10\n",
            "66/66 [==============================] - 0s 6ms/step - loss: 0.4042 - accuracy: 0.8361 - val_loss: 0.3465 - val_accuracy: 0.8664\n",
            "Epoch 3/10\n",
            "66/66 [==============================] - 0s 6ms/step - loss: 0.3374 - accuracy: 0.8695 - val_loss: 0.3015 - val_accuracy: 0.8858\n",
            "Epoch 4/10\n",
            "66/66 [==============================] - 0s 6ms/step - loss: 0.2885 - accuracy: 0.8934 - val_loss: 0.2787 - val_accuracy: 0.8958\n",
            "Epoch 5/10\n",
            "66/66 [==============================] - 0s 6ms/step - loss: 0.2497 - accuracy: 0.9106 - val_loss: 0.2570 - val_accuracy: 0.9054\n",
            "Epoch 6/10\n",
            "66/66 [==============================] - 0s 6ms/step - loss: 0.2176 - accuracy: 0.9238 - val_loss: 0.2450 - val_accuracy: 0.9119\n",
            "Epoch 7/10\n",
            "66/66 [==============================] - 0s 6ms/step - loss: 0.1921 - accuracy: 0.9345 - val_loss: 0.2365 - val_accuracy: 0.9185\n",
            "Epoch 8/10\n",
            "66/66 [==============================] - 0s 7ms/step - loss: 0.1699 - accuracy: 0.9438 - val_loss: 0.2328 - val_accuracy: 0.9234\n",
            "Epoch 9/10\n",
            "66/66 [==============================] - 0s 6ms/step - loss: 0.1544 - accuracy: 0.9510 - val_loss: 0.2401 - val_accuracy: 0.9221\n",
            "Epoch 10/10\n",
            "66/66 [==============================] - 0s 6ms/step - loss: 0.1405 - accuracy: 0.9558 - val_loss: 0.2340 - val_accuracy: 0.9235\n"
          ]
        }
      ],
      "source": [
        "fcn_train_history = fcn_model.fit(X_train, Y_train, epochs=10, batch_size = batch_size, verbose=1,\n",
        "                         validation_split = 0.2)"
      ]
    },
    {
      "cell_type": "code",
      "execution_count": null,
      "id": "difficult-roller",
      "metadata": {
        "scrolled": true,
        "id": "difficult-roller",
        "outputId": "7c970463-1d3b-40c5-b41d-4b31d4dbb866"
      },
      "outputs": [
        {
          "data": {
            "text/plain": [
              "<matplotlib.legend.Legend at 0x7fa0900c13a0>"
            ]
          },
          "execution_count": 26,
          "metadata": {},
          "output_type": "execute_result"
        },
        {
          "data": {
            "image/png": "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\n",
            "text/plain": [
              "<Figure size 432x288 with 1 Axes>"
            ]
          },
          "metadata": {
            "needs_background": "light"
          },
          "output_type": "display_data"
        }
      ],
      "source": [
        "plt.plot(fcn_train_history.history['accuracy'])\n",
        "plt.plot(fcn_train_history.history['val_accuracy'])\n",
        "plt.title('model accuracy')\n",
        "plt.ylabel('accuracy')\n",
        "plt.xlabel('epoch')\n",
        "plt.legend(['train', 'valid'], loc='upper left')"
      ]
    },
    {
      "cell_type": "code",
      "execution_count": null,
      "id": "olive-tribe",
      "metadata": {
        "id": "olive-tribe",
        "outputId": "430c07de-b933-4de6-aec8-c0e6f64b530c"
      },
      "outputs": [
        {
          "data": {
            "text/plain": [
              "<matplotlib.legend.Legend at 0x7fa0900a6340>"
            ]
          },
          "execution_count": 27,
          "metadata": {},
          "output_type": "execute_result"
        },
        {
          "data": {
            "image/png": "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\n",
            "text/plain": [
              "<Figure size 432x288 with 1 Axes>"
            ]
          },
          "metadata": {
            "needs_background": "light"
          },
          "output_type": "display_data"
        }
      ],
      "source": [
        "plt.plot(fcn_train_history.history['loss'])\n",
        "plt.plot(fcn_train_history.history['val_loss'])\n",
        "plt.title('model loss')\n",
        "plt.ylabel('accuracy')\n",
        "plt.xlabel('epoch')\n",
        "plt.legend(['train', 'valid'], loc='upper left')"
      ]
    },
    {
      "cell_type": "markdown",
      "id": "continental-seller",
      "metadata": {
        "id": "continental-seller"
      },
      "source": [
        "### 4-4. Result\n",
        "학습완료된 모델을 바탕으로 test set 예측을 통해서 성능을 확인합니다."
      ]
    },
    {
      "cell_type": "code",
      "execution_count": null,
      "id": "focused-washer",
      "metadata": {
        "id": "focused-washer"
      },
      "outputs": [],
      "source": [
        "fcn_prob = fcn_model.predict(X_test)\n"
        "fcn_result = fcn_prob.argmax(axis=-1)"
      ]
    },
    {
      "cell_type": "markdown",
      "id": "stock-idaho",
      "metadata": {
        "id": "stock-idaho"
      },
      "source": [
        "모델의 성능은 다음의 metric들로 확인할 수 있습니다.<br>\n",
        "의료 도메인에서는 **class imbalance가 매우 흔한 문제**입니다. (예를 들어 이 예제에서는 abnormal 비율이 적습니다.)<br>\n",
        "이러한 환경에서 보다 정확한 모델 평가를 위해서 다음과 같이 **여러 metric을 함께 확인**하는 것이 좋습니다."
      ]
    },
    {
      "cell_type": "markdown",
      "id": "scientific-blade",
      "metadata": {
        "id": "scientific-blade"
      },
      "source": [
        "precision = 모델이 True로 분류한 것 중 실제 True인 비율\n",
        "\n",
        "$$ precision = {True\\_positive \\over True\\_positive + False\\_positive} $$\n",
        "\n",
        "recall = 실제 Ture인 것 중에서 모델이 모델이 True라고 예측한 것의 비율\n",
        "\n",
        "$$ recall = {True\\_positive \\over True\\_positive + False\\_negative} $$\n",
        "\n",
        "F1 Score = Precision 과 Recall의 조화평균\n",
        "\n",
        "$$ F1\\_Score = 2 \\times { precision \\times recall \\over precision + recall} $$\n",
        "\n",
        "macro_avg = averaging the unweighted mean per label <br>\n",
        "weighted_avg = averaging the support-weighted mean per label"
      ]
    },
    {
      "cell_type": "code",
      "execution_count": null,
      "id": "stunning-dependence",
      "metadata": {
        "id": "stunning-dependence",
        "outputId": "4d5ff9c8-cf41-413a-d8ad-4418b593701b"
      },
      "outputs": [
        {
          "name": "stdout",
          "output_type": "stream",
          "text": [
            "              precision    recall  f1-score   support\n",
            "\n",
            "      normal       0.77      0.98      0.86     17745\n",
            "    abnormal       0.91      0.45      0.60      9186\n",
            "\n",
            "    accuracy                           0.80     26931\n",
            "   macro avg       0.84      0.71      0.73     26931\n",
            "weighted avg       0.82      0.80      0.77     26931\n",
            "\n"
          ]
        }
      ],
      "source": [
        "print(classification_report(Y_test, fcn_result, target_names=['normal', 'abnormal']))"
      ]
    },
    {
      "cell_type": "markdown",
      "id": "premier-criticism",
      "metadata": {
        "id": "premier-criticism"
      },
      "source": [
        "***"
      ]
    },
    {
      "cell_type": "markdown",
      "id": "atmospheric-image",
      "metadata": {
        "id": "atmospheric-image"
      },
      "source": [
        "## 5. Deep Learning model training - multiclass classification\n",
        "\n",
        "두번째 예제로 multiclass classification (다중클래스분류) 을 수행해 보겠습니다.<br>\n",
        "이진 분류보다는 조금 더 어려운 문제이므로 앞서 이진분류 모델의 FCN보다 조금 더 deep 한 Convolutaion Neural Network (CNN)을 사용합니다.<br>\n",
        "앞서 3-1. 데이터셋 구축 과정에서 추출해둔 `symbol`을 활용합니다."
      ]
    },
    {
      "cell_type": "code",
      "execution_count": null,
      "id": "pacific-importance",
      "metadata": {
        "id": "pacific-importance"
      },
      "outputs": [],
      "source": [
        "from keras.models import Model\n",
        "from keras.layers import Layer, Dense, Dropout, Conv1D, MaxPooling1D, Add, Input, concatenate, multiply, dot, ReLU, Flatten \n",
        "from keras.callbacks import EarlyStopping, ModelCheckpoint\n",
        "from keras import metrics"
      ]
    },
    {
      "cell_type": "markdown",
      "id": "humanitarian-grill",
      "metadata": {
        "id": "humanitarian-grill"
      },
      "source": [
        "### 5-1. Prepare Dataset\n",
        "다중클래스분류 모델을 학습시키기 위해 Dataset의 약간의 preprocessing이 필요합니다.<br>\n",
        "딥러닝은 행렬연산의 연속이기 때문에 `symbol`을 수치로 변환해주어야 합니다.<br>\n",
        "각 `symbol`을 숫자 하나로 매칭시켜 dictionary를 만들고 변환해줍니다."
      ]
    },
    {
      "cell_type": "code",
      "execution_count": null,
      "id": "impressed-steel",
      "metadata": {
        "id": "impressed-steel",
        "outputId": "970eef49-0541-43e1-880b-46b7e7e6393b"
      },
      "outputs": [
        {
          "name": "stdout",
          "output_type": "stream",
          "text": [
            "{'L': 0, 'R': 1, 'V': 2, '/': 3, 'A': 4, 'f': 5, 'F': 6, 'j': 7, 'a': 8, 'E': 9, 'J': 10, 'e': 11, 'S': 12, 'N': 13}\n",
            "{0: 'L', 1: 'R', 2: 'V', 3: '/', 4: 'A', 5: 'f', 6: 'F', 7: 'j', 8: 'a', 9: 'E', 10: 'J', 11: 'e', 12: 'S', 13: 'N'}\n"
          ]
        }
      ],
      "source": [
        "# make class and idx dictionary for multiclass classification\n",
        "target_classes = abnormal + ['N']\n",
        "symbol_idx_dict = dict(zip(target_classes, np.arange(len(target_classes))))\n",
        "idx_symbol_dict = {v: k for k, v in symbol_idx_dict.items()}\n",
        "print(symbol_idx_dict)\n",
        "print(idx_symbol_dict)"
      ]
    },
    {
      "cell_type": "code",
      "execution_count": null,
      "id": "harmful-ethernet",
      "metadata": {
        "id": "harmful-ethernet"
      },
      "outputs": [],
      "source": [
        "# get symbol index value\n",
        "label_train = [symbol_idx_dict[label] for label in symbol_train]\n",
        "label_test = [symbol_idx_dict[label] for label in symbol_test]"
      ]
    },
    {
      "cell_type": "markdown",
      "id": "occupied-briefs",
      "metadata": {
        "id": "occupied-briefs"
      },
      "source": [
        "### 5-2. Define Convolutional Neural Network\n",
        "기본적인 구조는 FCN을 이용한 binary classification 때와 매우 흡사하지만 CNN 모델에 맞게 input shape을 수정해주어야 합니다.<br>\n",
        "CNN을 사용하기 위한 데이터에서는 input 이 (*batch_size, length, channel*)의 구조를 가져야 합니다.<br>\n",
        "우리 데이터의 경우 *channel* 수는 1 입니다.<br>\n",
        "<br>\n",
        "이번 강의에서 사용할 간단한 CNN 구조는 다음과 같습니다.<br>\n",
        "7개의 블록을 가지고 각 블록은 2개의 convolution layer와 residual path를 포함합니다.<br>\n",
        "residual path는 추후 모델 학습을 수월하게 하는 역할을 합니다.<br>\n",
        "`channel size`는 32로 하고 `kernel size`는 5로 합니다.<br>\n",
        "예측을 위한 classifier는 32개의 neuron을 갖는 2개의 layer로 구성합니다.<br>\n",
        "다중분류를 위해 모델의 **output에 `softmax` 함수를 사용하도록 변경**합니다."
      ]
    },
    {
      "cell_type": "code",
      "execution_count": null,
      "id": "acknowledged-mileage",
      "metadata": {
        "id": "acknowledged-mileage"
      },
      "outputs": [],
      "source": [
        "batch_size = 2000\n",
        "num_classes = len(symbol_idx_dict)"
      ]
    },
    {
      "cell_type": "code",
      "execution_count": null,
      "id": "southern-guatemala",
      "metadata": {
        "id": "southern-guatemala"
      },
      "outputs": [],
      "source": [
        "# Define input\n",
        "inp = Input(shape=(X_train.shape[1], 1))\n",
        "\n",
        "#stem\n",
        "x = Conv1D(filters=32, kernel_size=5, activation='relu')(inp)\n",
        "\n",
        "# block 1\n",
        "fx = Conv1D(filters=32, kernel_size=5, padding='same', activation='relu')(x)\n",
        "fx = Conv1D(filters=32, kernel_size=5, padding='same')(fx)\n",
        "out = Add()([x, fx])\n",
        "out = ReLU()(out)\n",
        "out = MaxPooling1D(pool_size=5, strides=2)(out)\n",
        "\n",
        "\n",
        "# block 2\n",
        "fx = Conv1D(filters=32, kernel_size=5, padding='same', activation='relu')(out)\n",
        "fx = Conv1D(filters=32, kernel_size=5, padding='same')(fx)\n",
        "out = Add()([out, fx])\n",
        "out = ReLU()(out)\n",
        "out = MaxPooling1D(pool_size=5, strides=2)(out)\n",
        "\n",
        "# block 3\n",
        "fx = Conv1D(filters=32, kernel_size=5, padding='same', activation='relu')(out)\n",
        "fx = Conv1D(filters=32, kernel_size=5, padding='same')(fx)\n",
        "out = Add()([out, fx])\n",
        "out = ReLU()(out)\n",
        "out = MaxPooling1D(pool_size=5, strides=2)(out)\n",
        "\n",
        "# block 4\n",
        "fx = Conv1D(filters=32, kernel_size=5, padding='same', activation='relu')(out)\n",
        "fx = Conv1D(filters=32, kernel_size=5, padding='same')(fx)\n",
        "out = Add()([out, fx])\n",
        "out = ReLU()(out)\n",
        "out = MaxPooling1D(pool_size=5, strides=2)(out)\n",
        "\n",
        "# block 5\n",
        "fx = Conv1D(filters=32, kernel_size=5, padding='same', activation='relu')(out)\n",
        "fx = Conv1D(filters=32, kernel_size=5, padding='same')(fx)\n",
        "out = Add()([out, fx])\n",
        "out = ReLU()(out)\n",
        "out = MaxPooling1D(pool_size=5, strides=2)(out)\n",
        "\n",
        "# block 6\n",
        "fx = Conv1D(filters=32, kernel_size=5, padding='same', activation='relu')(out)\n",
        "fx = Conv1D(filters=32, kernel_size=5, padding='same')(fx)\n",
        "out = Add()([out, fx])\n",
        "out = ReLU()(out)\n",
        "out = MaxPooling1D(pool_size=5, strides=2)(out)\n",
        "\n",
        "# block 7\n",
        "fx = Conv1D(filters=32, kernel_size=5, padding='same', activation='relu')(out)\n",
        "fx = Conv1D(filters=32, kernel_size=5, padding='same')(fx)\n",
        "out = Add()([out, fx])\n",
        "out = ReLU()(out)\n",
        "out = MaxPooling1D(pool_size=5, strides=2)(out)\n",
        "\n",
        "# MLP layers\n",
        "out = Flatten()(out)\n",
        "out = Dense(32)(out)\n",
        "out = Dense(32)(out)\n",
        "out = Dense(num_classes, activation='softmax')(out)"
      ]
    },
    {
      "cell_type": "markdown",
      "id": "false-monitoring",
      "metadata": {
        "id": "false-monitoring"
      },
      "source": [
        "`Keras`에서는 모델을 compile 해주어야 합니다.<br>\n",
        "이 때 loss와 metric을 정해주게 되는데, 여기서는 `sparse_categorical_crossentropy`를 사용합니다.<br>\n",
        "`sparse_categorical_crossentropy`의 경우는 input shape이 instance별 class index가 나타나는 1-D array가 되는 반면, `categorical_crossentopy`의 경우는 one-hot encoding이 되거나 혹은 soft probaility가 label이 될 수 있는 label indicator array가 사용된다는 차이가 있습니다."
      ]
    },
    {
      "cell_type": "code",
      "execution_count": null,
      "id": "duplicate-geography",
      "metadata": {
        "id": "duplicate-geography"
      },
      "outputs": [],
      "source": [
        "cnn_model = Model(inputs=[inp], outputs=[out])\n",
        "adam_optimizer = optimizers.Adam(lr=0.0001)\n",
        "cnn_model.compile(loss='sparse_categorical_crossentropy', optimizer=adam_optimizer, metrics=[metrics.SparseCategoricalAccuracy()])\n"
      ]
    },
    {
      "cell_type": "markdown",
      "id": "incorporate-record",
      "metadata": {
        "id": "incorporate-record"
      },
      "source": [
        "모델의 구조는 다음과 같습니다."
      ]
    },
    {
      "cell_type": "code",
      "execution_count": null,
      "id": "geographic-mechanics",
      "metadata": {
        "id": "geographic-mechanics",
        "outputId": "41f130bf-fbe3-4f36-de17-b11e399eaf5c"
      },
      "outputs": [
        {
          "name": "stdout",
          "output_type": "stream",
          "text": [
            "Model: \"model\"\n",
            "__________________________________________________________________________________________________\n",
            "Layer (type)                    Output Shape         Param #     Connected to                     \n",
            "==================================================================================================\n",
            "input_1 (InputLayer)            [(None, 2160, 1)]    0                                            \n",
            "__________________________________________________________________________________________________\n",
            "conv1d (Conv1D)                 (None, 2156, 32)     192         input_1[0][0]                    \n",
            "__________________________________________________________________________________________________\n",
            "conv1d_1 (Conv1D)               (None, 2156, 32)     5152        conv1d[0][0]                     \n",
            "__________________________________________________________________________________________________\n",
            "conv1d_2 (Conv1D)               (None, 2156, 32)     5152        conv1d_1[0][0]                   \n",
            "__________________________________________________________________________________________________\n",
            "add (Add)                       (None, 2156, 32)     0           conv1d[0][0]                     \n",
            "                                                                 conv1d_2[0][0]                   \n",
            "__________________________________________________________________________________________________\n",
            "re_lu (ReLU)                    (None, 2156, 32)     0           add[0][0]                        \n",
            "__________________________________________________________________________________________________\n",
            "max_pooling1d (MaxPooling1D)    (None, 1076, 32)     0           re_lu[0][0]                      \n",
            "__________________________________________________________________________________________________\n",
            "conv1d_3 (Conv1D)               (None, 1076, 32)     5152        max_pooling1d[0][0]              \n",
            "__________________________________________________________________________________________________\n",
            "conv1d_4 (Conv1D)               (None, 1076, 32)     5152        conv1d_3[0][0]                   \n",
            "__________________________________________________________________________________________________\n",
            "add_1 (Add)                     (None, 1076, 32)     0           max_pooling1d[0][0]              \n",
            "                                                                 conv1d_4[0][0]                   \n",
            "__________________________________________________________________________________________________\n",
            "re_lu_1 (ReLU)                  (None, 1076, 32)     0           add_1[0][0]                      \n",
            "__________________________________________________________________________________________________\n",
            "max_pooling1d_1 (MaxPooling1D)  (None, 536, 32)      0           re_lu_1[0][0]                    \n",
            "__________________________________________________________________________________________________\n",
            "conv1d_5 (Conv1D)               (None, 536, 32)      5152        max_pooling1d_1[0][0]            \n",
            "__________________________________________________________________________________________________\n",
            "conv1d_6 (Conv1D)               (None, 536, 32)      5152        conv1d_5[0][0]                   \n",
            "__________________________________________________________________________________________________\n",
            "add_2 (Add)                     (None, 536, 32)      0           max_pooling1d_1[0][0]            \n",
            "                                                                 conv1d_6[0][0]                   \n",
            "__________________________________________________________________________________________________\n",
            "re_lu_2 (ReLU)                  (None, 536, 32)      0           add_2[0][0]                      \n",
            "__________________________________________________________________________________________________\n",
            "max_pooling1d_2 (MaxPooling1D)  (None, 266, 32)      0           re_lu_2[0][0]                    \n",
            "__________________________________________________________________________________________________\n",
            "conv1d_7 (Conv1D)               (None, 266, 32)      5152        max_pooling1d_2[0][0]            \n",
            "__________________________________________________________________________________________________\n",
            "conv1d_8 (Conv1D)               (None, 266, 32)      5152        conv1d_7[0][0]                   \n",
            "__________________________________________________________________________________________________\n",
            "add_3 (Add)                     (None, 266, 32)      0           max_pooling1d_2[0][0]            \n",
            "                                                                 conv1d_8[0][0]                   \n",
            "__________________________________________________________________________________________________\n",
            "re_lu_3 (ReLU)                  (None, 266, 32)      0           add_3[0][0]                      \n",
            "__________________________________________________________________________________________________\n",
            "max_pooling1d_3 (MaxPooling1D)  (None, 131, 32)      0           re_lu_3[0][0]                    \n",
            "__________________________________________________________________________________________________\n",
            "conv1d_9 (Conv1D)               (None, 131, 32)      5152        max_pooling1d_3[0][0]            \n",
            "__________________________________________________________________________________________________\n",
            "conv1d_10 (Conv1D)              (None, 131, 32)      5152        conv1d_9[0][0]                   \n",
            "__________________________________________________________________________________________________\n",
            "add_4 (Add)                     (None, 131, 32)      0           max_pooling1d_3[0][0]            \n",
            "                                                                 conv1d_10[0][0]                  \n",
            "__________________________________________________________________________________________________\n",
            "re_lu_4 (ReLU)                  (None, 131, 32)      0           add_4[0][0]                      \n",
            "__________________________________________________________________________________________________\n",
            "max_pooling1d_4 (MaxPooling1D)  (None, 64, 32)       0           re_lu_4[0][0]                    \n",
            "__________________________________________________________________________________________________\n",
            "conv1d_11 (Conv1D)              (None, 64, 32)       5152        max_pooling1d_4[0][0]            \n",
            "__________________________________________________________________________________________________\n",
            "conv1d_12 (Conv1D)              (None, 64, 32)       5152        conv1d_11[0][0]                  \n",
            "__________________________________________________________________________________________________\n",
            "add_5 (Add)                     (None, 64, 32)       0           max_pooling1d_4[0][0]            \n",
            "                                                                 conv1d_12[0][0]                  \n",
            "__________________________________________________________________________________________________\n",
            "re_lu_5 (ReLU)                  (None, 64, 32)       0           add_5[0][0]                      \n",
            "__________________________________________________________________________________________________\n",
            "max_pooling1d_5 (MaxPooling1D)  (None, 30, 32)       0           re_lu_5[0][0]                    \n",
            "__________________________________________________________________________________________________\n",
            "conv1d_13 (Conv1D)              (None, 30, 32)       5152        max_pooling1d_5[0][0]            \n",
            "__________________________________________________________________________________________________\n",
            "conv1d_14 (Conv1D)              (None, 30, 32)       5152        conv1d_13[0][0]                  \n",
            "__________________________________________________________________________________________________\n",
            "add_6 (Add)                     (None, 30, 32)       0           max_pooling1d_5[0][0]            \n",
            "                                                                 conv1d_14[0][0]                  \n",
            "__________________________________________________________________________________________________\n",
            "re_lu_6 (ReLU)                  (None, 30, 32)       0           add_6[0][0]                      \n",
            "__________________________________________________________________________________________________\n",
            "max_pooling1d_6 (MaxPooling1D)  (None, 13, 32)       0           re_lu_6[0][0]                    \n",
            "__________________________________________________________________________________________________\n",
            "flatten (Flatten)               (None, 416)          0           max_pooling1d_6[0][0]            \n",
            "__________________________________________________________________________________________________\n",
            "dense_3 (Dense)                 (None, 32)           13344       flatten[0][0]                    \n",
            "__________________________________________________________________________________________________\n",
            "dense_4 (Dense)                 (None, 32)           1056        dense_3[0][0]                    \n",
            "__________________________________________________________________________________________________\n",
            "dense_5 (Dense)                 (None, 14)           462         dense_4[0][0]                    \n",
            "==================================================================================================\n",
            "Total params: 87,182\n",
            "Trainable params: 87,182\n",
            "Non-trainable params: 0\n",
            "__________________________________________________________________________________________________\n"
          ]
        }
      ],
      "source": [
        "cnn_model.summary()"
      ]
    },
    {
      "cell_type": "markdown",
      "id": "functioning-precipitation",
      "metadata": {
        "id": "functioning-precipitation"
      },
      "source": [
        "### 5-3. Model fitting\n",
        "\n",
        "다중클래스분류 모델을 학습시킵니다.<br>\n",
        "학습 결과를 `train_history`에 저장하고 학습 과정동안의 loss 변화와 accuracy 변화를 확인합니다.<br>\n",
        "Training 데이터의 일부 (여기서는 20%) 를 validation을 위해 사용합니다.\n"
      ]
    },
    {
      "cell_type": "code",
      "execution_count": null,
      "id": "seeing-viewer",
      "metadata": {
        "id": "seeing-viewer",
        "outputId": "24a32449-9226-487b-d6c2-44d7f0de1cd5"
      },
      "outputs": [
        {
          "name": "stdout",
          "output_type": "stream",
          "text": [
            "Epoch 1/10\n",
            "33/33 [==============================] - 10s 218ms/step - loss: 1.5494 - sparse_categorical_accuracy: 0.6359 - val_loss: 0.8582 - val_sparse_categorical_accuracy: 0.8593\n",
            "Epoch 2/10\n",
            "33/33 [==============================] - 6s 181ms/step - loss: 1.2017 - sparse_categorical_accuracy: 0.6570 - val_loss: 0.7986 - val_sparse_categorical_accuracy: 0.8639\n",
            "Epoch 3/10\n",
            "33/33 [==============================] - 6s 181ms/step - loss: 0.9546 - sparse_categorical_accuracy: 0.7080 - val_loss: 0.7120 - val_sparse_categorical_accuracy: 0.8672\n",
            "Epoch 4/10\n",
            "33/33 [==============================] - 6s 182ms/step - loss: 0.6779 - sparse_categorical_accuracy: 0.8006 - val_loss: 0.6606 - val_sparse_categorical_accuracy: 0.8584\n",
            "Epoch 5/10\n",
            "33/33 [==============================] - 6s 182ms/step - loss: 0.4747 - sparse_categorical_accuracy: 0.8693 - val_loss: 0.6249 - val_sparse_categorical_accuracy: 0.8762\n",
            "Epoch 6/10\n",
            "33/33 [==============================] - 6s 182ms/step - loss: 0.3662 - sparse_categorical_accuracy: 0.8999 - val_loss: 0.5533 - val_sparse_categorical_accuracy: 0.8910\n",
            "Epoch 7/10\n",
            "33/33 [==============================] - 6s 182ms/step - loss: 0.2972 - sparse_categorical_accuracy: 0.9248 - val_loss: 0.5378 - val_sparse_categorical_accuracy: 0.8978\n",
            "Epoch 8/10\n",
            "33/33 [==============================] - 6s 182ms/step - loss: 0.2546 - sparse_categorical_accuracy: 0.9374 - val_loss: 0.5271 - val_sparse_categorical_accuracy: 0.8991\n",
            "Epoch 9/10\n",
            "33/33 [==============================] - 6s 182ms/step - loss: 0.2256 - sparse_categorical_accuracy: 0.9456 - val_loss: 0.4974 - val_sparse_categorical_accuracy: 0.9073\n",
            "Epoch 10/10\n",
            "33/33 [==============================] - 6s 182ms/step - loss: 0.2011 - sparse_categorical_accuracy: 0.9517 - val_loss: 0.4809 - val_sparse_categorical_accuracy: 0.9099\n"
          ]
        }
      ],
      "source": [
        "cnn_train_history = cnn_model.fit(X_train, np.array(label_train), epochs=10, batch_size = batch_size, verbose=1,\n",
        "                         validation_split = 0.2)"
      ]
    },
    {
      "cell_type": "code",
      "execution_count": null,
      "id": "opposite-construction",
      "metadata": {
        "id": "opposite-construction",
        "outputId": "e29020c3-5843-45c9-8e99-1b1899e20284"
      },
      "outputs": [
        {
          "data": {
            "text/plain": [
              "<matplotlib.legend.Legend at 0x7fa15ad16fa0>"
            ]
          },
          "execution_count": 38,
          "metadata": {},
          "output_type": "execute_result"
        },
        {
          "data": {
            "image/png": "iVBORw0KGgoAAAANSUhEUgAAAYgAAAEWCAYAAAB8LwAVAAAAOXRFWHRTb2Z0d2FyZQBNYXRwbG90bGliIHZlcnNpb24zLjMuNCwgaHR0cHM6Ly9tYXRwbG90bGliLm9yZy8QVMy6AAAACXBIWXMAAAsTAAALEwEAmpwYAAA0M0lEQVR4nO3deXxU9bn48c+TfSUJSVgTSEBkU9aAKGrFFRe0rqUubbEWl1qX23q1vbettb2/WrW911YrWItLxV1xqyLuVLFKInsACSEhASQLJCQhe57fH+eEDHGAATKZZOZ5v155ceYsM88MyfeZ8z3f83xFVTHGGGM6Cwt0AMYYY3omSxDGGGO8sgRhjDHGK0sQxhhjvLIEYYwxxitLEMYYY7yyBGEMICJPiMjvfNy3SETO9HdMxgSaJQhjjDFeWYIwJoiISESgYzDBwxKE6TXcrp07RGS1iNSJyN9FpL+IvC0iNSLynoikeOx/oYisE5EqEflIREZ7bJsoIl+6xz0PxHR6rQtEZKV77DIRGedjjOeLyAoR2SMiJSJyd6ftJ7vPV+Vu/4G7PlZE/igixSJSLSKfuOtOE5FSL5/Dme7y3SLykog8LSJ7gB+IyFQR+cx9jR0i8pCIRHkcP1ZE3hWRXSKyU0R+ISIDRGSviKR67DdZRMpFJNKX926CjyUI09tcCpwFHAvMAt4GfgGk4fw+3wIgIscCzwK3AenAW8AbIhLlNpavAv8A+gIvus+Le+wkYAFwPZAKzAdeF5FoH+KrA74HJAPnAzeKyLfd5x3ixvsXN6YJwEr3uAeAycBJbkz/CbT5+JlcBLzkvuZCoBW4HeczORE4A7jJjSEReA9YDAwCjgHeV9WvgY+AKzye92rgOVVt9jEOE2QsQZje5i+qulNVtwH/Aj5X1RWq2ggsAia6+30H+Keqvus2cA8AsTgN8DQgEvg/VW1W1ZeA5R6v8SNgvqp+rqqtqvok0Oged1Cq+pGqrlHVNlVdjZOkvuVuvgp4T1WfdV+3UlVXikgYcC1wq6puc19zmfuefPGZqr7qvma9quap6r9VtUVVi3ASXHsMFwBfq+ofVbVBVWtU9XN325M4SQERCQe+i5NETYiyBGF6m50ey/VeHie4y4OA4vYNqtoGlACD3W3bdP9KlcUey0OBn7pdNFUiUgVkuscdlIicICIful0z1cANON/kcZ9js5fD0nC6uLxt80VJpxiOFZE3ReRrt9vp//kQA8BrwBgRGYZzllatql8cYUwmCFiCMMFqO05DD4CICE7juA3YAQx217Ub4rFcAvyPqiZ7/MSp6rM+vO4zwOtApqomAfOA9tcpAYZ7OaYCaDjAtjogzuN9hON0T3nqXJL5EWADMEJV++B0wR0qBlS1AXgB50znGuzsIeRZgjDB6gXgfBE5w73I+lOcbqJlwGdAC3CLiESIyCXAVI9j/wbc4J4NiIjEuxefE3143URgl6o2iMhU4EqPbQuBM0XkCvd1U0Vkgnt2swD4k4gMEpFwETnRvebxFRDjvn4k8N/Aoa6FJAJ7gFoRGQXc6LHtTWCAiNwmItEikigiJ3hsfwr4AXAh8LQP79cEMUsQJiip6kac/vS/4HxDnwXMUtUmVW0CLsFpCHfjXK94xePYXJzrEA+52wvcfX1xE3CPiNQAv8JJVO3PuxU4DydZ7cK5QD3e3fwzYA3OtZBdwB+AMFWtdp/zMZyznzpgv1FNXvwMJzHV4CS75z1iqMHpPpoFfA1sAmZ4bP8U5+L4l+71CxPCxCYMMsZ4EpEPgGdU9bFAx2ICyxKEMWYfEZkCvItzDaUm0PGYwLIuJmMMACLyJM49ErdZcjBgZxDGGGMOwM4gjDHGeBVUhb3S0tI0Kysr0GEYY0yvkZeXV6Gqne+tAYIsQWRlZZGbmxvoMIwxptcQkeIDbbMuJmOMMV5ZgjDGGOOVJQhjjDFeBdU1CG+am5spLS2loaEh0KH4XUxMDBkZGURG2vwuxpijF/QJorS0lMTERLKysti/eGdwUVUqKyspLS0lOzs70OEYY4JA0HcxNTQ0kJqaGtTJAUBESE1NDYkzJWNM9/BrghCRmSKyUUQKROQuL9tTRGSROHMMfyEix3lsKxKRNe68wEc1djXYk0O7UHmfxpju4bcuJndik4dxSguXAstF5HVVzffY7RfASlW92K1b/zDO/LntZqhqhb9iNMaY3qa1TSmraWBHdQM7qhrYUV1Pc6ty42le54E6Kv68BjEVKFDVQgAReQ5ncnXPBDEG+D2Aqm4QkSwR6a+qO7/xbL1UVVUVzzzzDDfddNNhHXfeeefxzDPPkJyc7J/AjDE9TmubUl7TyI7qeicBVDewo6qeHXucf7+ubmBnTSOtbfvX0EtPjO51CWIw+8+VWwqc0GmfVTgTt3zizr41FMjAmWdYgSUiojgTyD/q7UVEZC4wF2DIkCHedgmoqqoq/vrXv34jQbS2thIeHn7A49566y1/h2aM6UatbUpFbWNHo1/d8I1E4K3xj44IY1ByLAOTYpg2PJVBSbEMSIphUHIMA/rEMig5hqRY/4xc9GeC8NYh3rl07L3AgyKyEmc2rRU4U0ECTFfV7SLSD3hXRDao6tJvPKGTOB4FyMnJ6XGlae+66y42b97MhAkTiIyMJCEhgYEDB7Jy5Ury8/P59re/TUlJCQ0NDdx6663MnTsX6CgbUltby7nnnsvJJ5/MsmXLGDx4MK+99hqxsbEBfmfGmHZtno2/R6O/3f3Wv6O6gZ17Gmjx0vgPTIphYFIs04alMjA5hgFJsQxy1w1MiiE5LjJg1xf9mSBKcSaJb5eBM5H8Pqq6B5gD+yaV3+L+oKrb3X/LRGQRTpfVNxLE4fjNG+vI377naJ7iG8YM6sOvZ4094PZ7772XtWvXsnLlSj766CPOP/981q5du28o6oIFC+jbty/19fVMmTKFSy+9lNTU1P2eY9OmTTz77LP87W9/44orruDll1/m6quv7tL3YYw5uKaWNrbuqmNzeR2by2spLK+juLKO7VXeG/+ofY1/DFOz+zrLybEM7BPDwGQnAaQEsPH3hT8TxHJghIhk48ylO5v9J3BHRJKBve4cwdcBS1V1j4jE48zHW+Munw3c48dYu83UqVP3u0/hz3/+M4sWLQKgpKSETZs2fSNBZGdnM2HCBAAmT55MUVFRd4VrTEhRVSpqmygsr6Wwoo7C8lo2lzv/luyu36/7Jz0xmuy0eKZm93W6fJKcb//tSaFvfFSPbvx94bcEoaotInIz8A4QDixQ1XUicoO7fR4wGnhKRFpxLl7/0D28P7DI/XAjcObHXXy0MR3sm353iY+P37f80Ucf8d577/HZZ58RFxfHaaed5vU+hujo6H3L4eHh1NfXd0usxgSrxpZWiiv3srnMSQTtZwSF5bXsaWjZt190RBjZafGMGdSHWeMHMSw9nmFpCWSnx9MnJvgrFvj1TmpVfQt4q9O6eR7LnwEjvBxXCIz3Z2zdJTExkZoa77M3VldXk5KSQlxcHBs2bODf//53N0dnTPBSdUYEbS6vo7Cils1lzr+F5XWU7t6LZ4/QgD4xDEuP58IJgxiWlsDwfgkMS4tncHIsYWG9+yzgaAR9qY1AS01NZfr06Rx33HHExsbSv3//fdtmzpzJvHnzGDduHCNHjmTatGkBjNSY3qmhuZUtFXX7zgDazwi2lNdR09hxNhATGcawtATGZSTx7YmDGe5xNpAQbU2hN0E1J3VOTo52njBo/fr1jB49OkARdb9Qe78mtOyormd50W5Wbq2ioLyWwvJatlXV49mMDUqKYVh6gpMA0hOcbqH0BAb2iQnps4EDEZE8Vc3xts3SpjGmR2ptU77aWUNu0S5yi3eTW7SbbVXO9bfYyHCG94tn0pAULpucsS8hZKfFExdlzVpXsU/SGNMj1De1srKkal9C+LJ4974uon6J0UzJ6st1p2STM7QvowcmEhEe9LVGA84ShDEmIMpqGsgr2u2cHRTvZt226n33Eozsn8isCYOYkpVCztC+ZKTE9voho72RJQhjjN+pKpvLa1le5HQV5RbvorhyL+AMJR2fmczcU4cxJasvk4akkBQX/ENIewNLEMaYLtfQ3MrabdUsL9pNXrHTZVS1txmA1PgoJg9N4eoThjI5K4XjBiURFWHdRT2RJQhjzFHbXddEXvFulhfvIq9oN6tLq2lqbQNgWHo8Z4/pT05WX3KGppCdFm/dRb2EJYgeJiEhgdraWrZv384tt9zCSy+99I19TjvtNB544AFycryOTDPGr1SV4sq9LC/aRZ57/aCgrBaAyHDh+MFJzJmexeShKUwemkJqQvQhntH0VJYgeqhBgwZ5TQ7GBEpe8W6eXFbEss2VVNQ2ApAUG8nkoSlcMmkwOUP7Mi4jiZjIA5exN72LJQg/u/POOxk6dOi++SDuvvtuRISlS5eye/dumpub+d3vfsdFF12033FFRUVccMEFrF27lvr6eubMmUN+fj6jR4+2Wkym27S1KR9sKGP+0s0sL9pNclwkp4/s53QXZaVwTHqC3XwWxEIrQbx9F3y9pmufc8DxcO69B9w8e/Zsbrvttn0J4oUXXmDx4sXcfvvt9OnTh4qKCqZNm8aFF154wH7ZRx55hLi4OFavXs3q1auZNGlS174HYzppbGnltZXbeXRpIQVltQxOjuXuWWO4Ykqm3YgWQux/2s8mTpxIWVkZ27dvp7y8nJSUFAYOHMjtt9/O0qVLCQsLY9u2bezcuZMBAwZ4fY6lS5dyyy23ADBu3DjGjRvXnW/BhJA9Dc08+/lWFny6hZ17GhkzsA8Pzp7A+ccPtBvTQlBoJYiDfNP3p8suu4yXXnqJr7/+mtmzZ7Nw4ULKy8vJy8sjMjKSrKwsr2W+PdmoD+NPO/c0sODTLTzz763UNLZw8jFpPHD5eE4+Js1+90JYaCWIAJk9ezY/+tGPqKio4OOPP+aFF16gX79+REZG8uGHH1JcXHzQ40899VQWLlzIjBkzWLt2LatXr+6myE2wKyir5W9LC1m0YhstbW2cP24Q1586jOMGJwU6NNMDWILoBmPHjqWmpobBgwczcOBArrrqKmbNmkVOTg4TJkxg1KhRBz3+xhtvZM6cOYwbN44JEyYwderUborcBKu84l3M+7iQd/N3EhMZxuypmVx38jCGpMYFOjTTg1i57yATau/X+K6tTXl/QxnzP95MbrEzIun7J2bxvROH2r0KIczKfRsTwhpbWnltxXbmL93M5vI6MlJi+c2FY7k8J8NGJJmDst8OY4LUnoZmnvl8Kws+2UJZjY1I6tVUobkemmqdn8ZaaKpzf9wpjcde3OUvGxIJQlVDYiRGMHUXmiO3c08DCz7ZwsLPt1Lrjkj64xU2IqlbtTR5aczdx+3L3tbvW1fTkQAa3e0c5O87Pt0SxJGIiYmhsrKS1NTUoP7jUFUqKyuJiYkJdCgmQArKanjUHZHU2qY2IqmrtTTB7iKo3ASVBVCxCapLoNGzMXeX25p9fFKBqASIiodo99+oREgY4LEuoWOfqHiITnSXPdZHJ/rlLQd9gsjIyKC0tJTy8vJAh+J3MTExZGRkBDoM081yi5wRSe+td0YkXTl1CNedMozMvjYi6bCpQu1Op/Gv3ASVmzuWdxeDtnbsG58OKVkQkwx9Bns03B6N975GP6FTInCXI+OgB39x9WuCEJGZwINAOPCYqt7baXsKsAAYDjQA16rqWl+O9VVkZCTZ2dlH/iaM6YHa2pT31u9k/tJC8op3kxIXyW1njuB7J2bRNz4q0OH1fI21zlmA50+FmxDa+/QBImIg9RgYMA7GXgJpIyB1BKQOh9jkgIXfXfyWIEQkHHgYOAsoBZaLyOuqmu+x2y+Alap6sYiMcvc/w8djjQk5jS2tvLpiG/OXFlLojki656KxXD45k9goq6K6n7ZWqCqGivYksKkjCdRs99hRICkT0o6BzBOchJB2jJMI+gyGsNC9oO/PM4ipQIGqFgKIyHPARYBnIz8G+D2Aqm4QkSwR6Q8M8+FYY0LGnoZmFv57K49/6oxIGjuoD3/+7kTOO25AaI9IUoW9lR5nAB7dQru3QGtTx74xSU6jP+xbThJIPcY5I+g7DCJjA/ceejB/JojBQInH41LghE77rAIuAT4RkanAUCDDx2ONCXrNrW3847NiHnx/E9X1zZwyIo0/XTGB6cf04EEXqk7D3NrkXNht9fLjdX0ztDR2LLc2Hnh9014nAVRsgoaqjtcOi3Qa/NRjYORMtzvITQRxqT26v78n8meC8PY/0Xmc1r3AgyKyElgDrABafDzWeRGRucBcgCFDhhxprMb0KKrKe+vL+P1b6ymsqOOUEWncOXNU941Iam2G6lKo2ur+FLv/ljhDLvc14M1ug++x7PMInsMQFgHhURAeCeHRzrWBlKHO0E7P6wLJQyE86MfedBt/fpKlQKbH4wzAs+MPVd0DzAEQ5+vQFvcn7lDHejzHo8Cj4JTa6KLYjQmY/O17+N0/81m2uZJh6fEs+EEOM0b269ozhtYWpx9+d7GXJLAV9mwDbevYX8KgTwYkZ0KfQR0NdXujHRG9fwMeHuk8jvBY3m99lLuu04/X9ZEQZtdXAsGfCWI5MEJEsoFtwGzgSs8dRCQZ2KuqTcB1wFJV3SMihzzWmGBTVtPAn5Z8xfO5JSTFRvKbC8dy5QlDiDySawxtrVCzw2nsv5EEiqF62/5DNhGn4U8eCkOnQ/IQ5xt68hDnp89gp6E2IcVvCUJVW0TkZuAdnKGqC1R1nYjc4G6fB4wGnhKRVpwL0D882LH+itWYQGpobuXvn2zhrx8W0NTaxrXTs7nl9BEkxR2kQW5rg9qvOxr+3cUeZwDFTvdQW8v+xyQOdBJA5jQ4fsj+SaBPhvPt3RgPQV/N1ZieSlV5Y/UO/vD2BrZV1XPWmP784rzRZKfFe+4E5Ruh8EMoW9+REKpL9h+hA5DQv+Mbf7LHt/+ULOcMINLusjffZNVcjelhvty6m9++mc+KrVWMGdiH+y8fx0nD05yNdZVOQtj8IWz+oGPMflya841/4DgYfYGbBNoTQaYN1TRdzhKEMd1oW1U9f3h7A6+v2k56YjT3XTqOSyf0I7z0C3jvAych7FgFqFPCYdhpMPx0GD7DSQTGdCNLEMZ0g7rGFh75aDN/+1choPxqWgRXpW0k+qtHYckn0FznDOXMmAoz/stJCoMm2OgdE1CWIIzxo9Y25eW8Uua/k8vIvV/yRHoBU9pWEbFym7ND3+Ew4UonIWSdDDF9AhuwMR4sQRjjD63NrPn8PdYuXcTovbm8G1ZIWJRCQxIMOxWG3+F0G6VkBTpSYw7IEoQxXUEVdhXC5g+oW7+EsKJPOF73Mpow9qSNR46/E445AwZNsjt9Ta9hv6nGHKn63bBlqXNhefMHzvBToFL7sYzp9DnubE6feRl9E/sGOFBjjowlCGN81doC2/LchPC+s6xtaFQiW5NyeFrOZknDWE7MyeE/zj6Wfol234Hp3SxBGHMwVSWwaYmTFLYshcY9Tl2iQZPQU37Kl5ET+fnn0XxV0shJw1N55PwxjBlkF5pNcLAEYUxnu4sg/zXnZ1uesy4p06kcOvx0yD6VDXsi+J9/rudfmyoYlhbBY987njNGd3FBPWMCzBKEMeBMMtOeFHasdNYNmghn3g2jLnDmFBChvKaRPy3+iueXbyUxJpJfXTCGq6cNJSoihCftMUHLEoQJXRWbYN2rTlLYucZZNzgHzvotjLlwvyGoDc2tPP5pEQ9/WEBDcyvfOzGL284cQXKcFbgzwcsShAkdqlC+oeNMocydwTZzGpzzexg9y6lptN8hyj/X7ODetzdQurueM0f34+fnjWZ4ekIA3oAx3csShAluqrBzHeS/6iSFiq8AgaEnwbn3OUmhz6ADHKrc9vxKXlu5nVEDEnn6hydw8oi0bg3fmECyBBEqVKGlARr2OCNxGqqdn8Y9zjrP5dZGSMmG9JHOT/LQ3lUTSNUpeNd+prBrszPyKOtkOOF6GDULEvsf8mkeXVrIayu3c8sZI7j1jBGEh9kFaBNaLEH0Fq3NbkNe1dGQ72voOy9Xf7PRb6j2Ya5gcWoBhUXA3sqO1RExzpy/6cdC+ignaaSNdCaH7ymTzKjC9i87rilUFYOEQ/apcNJPnAvNCek+P92yggr+sHgD5x8/kNvPHGGjk0xIsgTR3dpaYe8uqCvv+Nlb2bHc/s1+X6PvNu4t9Yd+7qgEiO7jNPIxSRCf7kzkHpPUsT66j1NGet9yn47tUQkQ5o7Gqa9yumPKNzgT1pRvhNLlsPbljtcLi3CSRHvCSB/lJJHUERAV549Pb39tbbAtt+NMobrEiWnYDDj1Dhh1PsQd/l3M26vqufnZFQxPT+C+y8ZZcjAhyxLE0VJ1GvK6Co9Gv6LT4/KOx3srAS+z+EkYxKXu33gnZRy6UW9fF92na2v8xCZD5lTnx1NTnTP6p3wjVLiJo2wDbHjLY45jceYuaE8Y6aPcBHKsE/fRaGuDks+dhLD+ddizzZnYfvjpMOMXMPJciE054qdvaG7lxqfzaGppY941k4mPtj8RE7rst9+b5ga3MT9IQ++53Hnqx3bt3+Lj0yHtGBh6orMclwbxaR3b4tOdRi2sF4ylj4p35ikYNGH/9S2NTrG68g1Q7p55VHwFhR851zTaJQ50r22MgjSPLqv4g1z8bWuF4mVuUnjDmYs5PBpGnOXcp3DsOUefeFy/eWMdq0qrmX/NZBupZEKeJQhVeP5qqC3raPSbarzvGxED8f2cxixhAPQ/vlNDn9qxHJfWc/rnu0NENPQb7fx4amt17kz2POMo3wgrnoam2o794lLdswyPH3ASwvo3nP+biFgnKYy5yEkK0Yld+haeX76VZ78o4abThnPO2AFd+tzG9EaWIEScawJRcZCS4zbwaR7f9D0eR8U7+xvfhYU710FShwPndaxXdbqHOp9x5L/qVEltFxnvJIMxFznJISreL2GuLq3il6+t45QRafz07JF+eQ1jehtLEADXvh3oCEKPiHONJSkDjjmzY72qcxZXvgGa652hqX6+4F1Z28gN/8gjPSGaB2dPtOGsxrgsQZieRcQZjnoYQ1KPRktrG7c8t4KKuiZeufEk+saHULegMYfg16uiIjJTRDaKSIGI3OVle5KIvCEiq0RknYjM8dhWJCJrRGSliOT6M04Tuh5Y8hWfFlTyu28fx3GDu+ZCtzHBwm9nECISDjwMnAWUAstF5HVVzffY7cdAvqrOEpF0YKOILFTV9mFBM1S1wl8xmtC2eO0O5n28mStPGMIVOZmHPsCYEOPPM4ipQIGqFroN/nPARZ32USBRnDuREoBdQIsfYzIGgIKyWn76wiomZCbz61ljAh2OMT2SPxPEYKDE43Gpu87TQ8BoYDuwBrhVVdvcbQosEZE8EZl7oBcRkbkikisiueXl5V0XvQlatY0tXP+PXGIiw3nk6klER/SiOlPGdCN/JghvQ0E630J8DrASGARMAB4Skfb5Gqer6iTgXODHInKqtxdR1UdVNUdVc9LTu+fCpum9VJU7XlxFUeVeHrpyEgOTYgMdkjE9lj8TRCng2bGbgXOm4GkO8Io6CoAtwCgAVd3u/lsGLMLpsjLmqMxfWsjba7/mrpmjOHF4aqDDMaZH82eCWA6MEJFsEYkCZgOvd9pnK3AGgIj0B0YChSISLyKJ7vp44GxgrR9jNSHg04IK7lu8gfPHDeS6U7IDHY4xPZ7fRjGpaouI3Ay8A4QDC1R1nYjc4G6fB/wWeEJE1uB0Sd2pqhUiMgxY5FbRjACeUdXF/orVBL9tVfX8pL1C66VWodUYX/j1RjlVfQt4q9O6eR7L23HODjofVwiM92dsJnQ0NLdy09N5NFuFVmMOi/2lmKB39+tOhdZHrUKrMYelF9SXNubIPffFVp5bXsKPZwznbKvQasxhsQRhgtaqkip+5VZo/Y+zrEKrMYfLEoQJSpW1jdz4dB7pidH82Sq0GnNE7BqECTqdK7SmWIVWY46InUGYoHP/ko18WlDJ/1iFVmOOiiUIE1TeXrOD+R8XctUJQ7jcKrQac1QsQZigUVBWw89edCq0/soqtBpz1CxBmKBQ09DM9f/IIzbKKrQa01V8ShAi8rKInC8illBMj+NUaF1NUeVe/vJdq9BqTFfxtcF/BLgS2CQi94rIKD/GZMxhmfdxIYvXfc3Pz7UKrcZ0JZ8ShKq+p6pXAZOAIuBdEVkmInNEJNKfARpzMJ8WVHD/Oxu4YNxAfniyVWg1piv53GUkIqnAD4DrgBXAgzgJ412/RGbMIbRXaD2mXwJ/sAqtxnQ5n26UE5FXcCby+QcwS1V3uJueF5FcfwVnzIE0NLdyY3uF1qutQqsx/uDrX9VDqvqBtw2qmtOF8Rjjk1+/to7VboXWYVah1Ri/8LWLabSIJLc/EJEUEbnJPyEZc3DPfrGV53OtQqsx/uZrgviRqla1P1DV3cCP/BKRMQexsqSKX1uFVmO6ha8JIkw8rgCKSDhgFdBMt6qsbeSmp/Po18cqtBrTHXy9BvEO8IKIzAMUuAGwOaJNt2lpbeMnz66gsq6Jl61CqzHdwtcEcSdwPXAjIMAS4DF/BWVMZ/e/s5Flmyu5/7JxVqHVmG7iU4JQ1Tacu6kf8W84xnzTW2t2MH+pVWg1prv5eh/ECOD3wBggpn29qg7zU1zGAE6F1jteXMXEIVah1Zju5utF6sdxzh5agBnAUzg3zR2UiMwUkY0iUiAid3nZniQib4jIKhFZJyJzfD3WBL+ahmbmtldovWqyVWg1ppv5miBiVfV9QFS1WFXvBk4/2AHuSKeHgXNxzjy+KyKdvwL+GMhX1fHAacAfRSTKx2NNEFNVfvbiKoor9/LQlZMYkBRz6IOMMV3K1wTR4Jb63iQiN4vIxUC/QxwzFShQ1UJVbQKeAy7qtI8Cie4Q2gRgF85Zii/HmiD2xLIi3lm3k5+fO4ppw6xCqzGB4GuCuA2IA24BJgNXA98/xDGDgRKPx6XuOk8PAaOB7cAa4Fb3grgvxwIgInNFJFdEcsvLy316M6ZnK69p5E9LvuLUY9OtQqsxAXTIBOF291yhqrWqWqqqc1T1UlX996EO9bJOOz0+B1gJDAImAA+JSB8fj3VWqj6qqjmqmpOenn6IkExv8MA7G6lvbuXXs8ZYhVZjAuiQCUJVW4HJcvh/qaWA55jEDJwzBU9zgFfUUQBswaka68uxJgitLq3ihbwS5kzPYrgV4TMmoHy9UW4F8JqIvAjUta9U1VcOcsxyYISIZAPbgNk4s9J52gqcAfxLRPoDI4FCoMqHY02QaWtT7n59Hanx0dxyxohAh2NMyPM1QfQFKtl/5JICB0wQqtoiIjfjlOkIBxao6joRucHdPg/4LfCEiKzB6Va6U1UrALwde1jvzPQ6r67cxpdbq7jvsnEkxthEhcYEmqh67drvlXJycjQ31+Yv6o1qG1s4/YGPGJgUw6KbphNmhfiM6RYiknegeX18vZP6cbxcJFbVa48yNmMAeOiDAspqGpl/zWRLDsb0EL52Mb3psRwDXIxdNDZdpKiijgWfbOHSSRlMHJIS6HCMMS5fi/W97PlYRJ4F3vNLRCbk/O6f+USGC3fOtAmAjOlJfL1RrrMRwJCuDMSEpo82lvHe+jJuOWME/fpYOQ1jehJfr0HUsP81iK9x5ogw5og1tbRxz5v5ZKfFM2e63TFtTE/jaxdTor8DMaHnyWVFFJbX8fgPphAVcaQns8YYf/Hpr1JELhaRJI/HySLybb9FZYJeWU0DD76/iRkj05kx6lB1H40xgeDr17Zfq2p1+wNVrQJ+7ZeITEi4f/FGGlta+eUFVsXdmJ7K1wThbT9fh8gas5+VJVW8mFfKtdOzGWb1lozpsXxNELki8icRGS4iw0Tkf4E8fwZmglN7vaW0hGhuPv2YQIdjjDkIXxPET4Am4HngBaAeZzY4Yw7LohXbWFlSxV3njrJ6S8b0cL6OYqoDbF5oc1RqG1u4d/EGxmcmc8lEr/M/GWN6EF9HMb0rIskej1NE5B2/RWWC0l8+2ER5TSO/uXCs1VsyphfwtYspzR25BICq7ubQc1Ibs09heS0LPtnCZZMzmJCZHOhwjDE+8DVBtInIvtIaIpLFAaYANcab3/1zPdER4fyn1VsyptfwdajqfwGfiMjH7uNTgbn+CckEmw83lPHBhjJ+cd4o+iVavSVjegtfL1IvFpEcnKSwEngNZySTMQfV1NLGb9/MZ1haPD84yeotGdOb+Fqs7zrgViADJ0FMAz5j/ylIjfmGJ5ZtobCijsfnWL0lY3obX/9ibwWmAMWqOgOYCJT7LSoTFMpqGvjz+wWcPqofM0bamAZjehtfE0SDqjYAiEi0qm4A7GqjOaj7rN6SMb2arxepS937IF4F3hWR3diUo+YgVmzdzUt5pVz/rWFkp8UHOhxjzBHw9SL1xe7i3SLyIZAELPZbVKZXa2tT7n4jn/TEaH5y+ohAh2OMOUKHXZFVVT8+9F4OEZkJPAiEA4+p6r2dtt8BXOURy2ggXVV3iUgRUAO0Ai2qmnO4sZrAePnLUlaVVPHHy8eTEG1Ff43prfz21ysi4cDDwFlAKbBcRF5X1fz2fVT1fuB+d/9ZwO2qusvjaWaoaoW/YjRdr6ahmT8s3sjEIclcbPWWjOnV/DnucCpQoKqFqtoEPAdcdJD9vws868d4TDf4ywcFVNQ2cvcsq7dkTG/nzwQxGCjxeFzqrvsGEYkDZgIve6xWYImI5InIAe/aFpG5IpIrIrnl5TbyNpA2l9fy+KdbuCIng/FWb8mYXs+fCcLb18cD1W+aBXzaqXtpuqpOAs4Ffiwip3o7UFUfVdUcVc1JT08/uojNUfntm/nERIRzxzmjAh2KMaYL+DNBlAKZHo8zOPDQ2Nl06l5S1e3uv2XAIpwuK9NDfbBhJx9tLOfWM0eQnhgd6HCMMV3AnwliOTBCRLJFJAonCbzeeScRSQK+hVPfqX1dvIgkti8DZwNr/RirOQqNLa3c80Y+w9Lj+d6JWYEOxxjTRfw2iklVW0TkZuAdnGGuC1R1nYjc4G6f5+56MbDEnbWuXX9gkYi0x/iMqtp9Fz3U458WUVS5lyes3pIxQcWvg9RV9S3grU7r5nV6/ATwRKd1hcB4f8ZmukbZngb+8v4mzhzdj9Os3pIxQcW+7pmjcu/iDTS3Kv99vtVbMibYWIIwR+zLrbt55ctt/PCUbLKs3pIxQccShDkibW3Kb15fR7/EaH4845hAh2OM8QNLEOaIvPRlKatKq/n5eaOs3pIxQcoShDlsexqauW/xBiYNSebbE6zekjHByr76mcP2l/c3UVnXxIIfTMEdimyMCUJ2BmEOS0FZLY9/WsQVkzMZl5Ec6HCMMX5kCcL4TFW55818YiPDuWOmzThrTLCzBGF89v76MpZ+5dRbSkuwekvGBDtLEMYnjS2t/Paf+RzTL4Hvn5QV6HCMMd3AEoTxyd8/2UJx5V5+dcEYIsPt18aYUGB/6eaQdu5p4KEPCjhzdH9OPdbm3DAmVFiCMId079sbaGlVfnnB6ECHYozpRpYgzEHlFe9i0YptXHdKNkNTrd6SMaHEEoQ5oLY25e7X8+nfx+otGROKLEGYA3oxr4Q126r5+bmjibd6S8aEHEsQxqvq+mbuW7yRyUNTuGjCoECHY4wJAPtaaLz68/ub2LW3iScvnGr1lowJUXYGYb6hoKyGJ5cVMXtKJscNTgp0OMaYALEEYfajqvzmjXxio8L52dlWb8mYUGYJwuxnwadF/GtTBbefeSypVm/JmJBm1yAM4Jw5PPxhAQ8s+Yqzx/TnmhOHBjokY0yAWYIwqCr3vr2B+UsLuXjiYO6/bBwRVm/JmJDn11ZARGaKyEYRKRCRu7xsv0NEVro/a0WkVUT6+nKs6Rptbcp/v7qW+UsLuXraEP54+XhLDsYYwI8JQkTCgYeBc4ExwHdFZIznPqp6v6pOUNUJwM+Bj1V1ly/HmqPX3NrGf7ywkoWfb+XG04bz24uOIyzMhrQaYxz+/Ko4FShQ1UJVbQKeAy46yP7fBZ49wmPNYWpobuWmhV/y6srt3HHOSO6cOcrudzDG7MefCWIwUOLxuNRd9w0iEgfMBF4+gmPnikiuiOSWl5cfddChYG9TC9c9mcu7+Tu556KxVmfJGOOVPxOEt6+jeoB9ZwGfququwz1WVR9V1RxVzUlPt7kKDqW6vplr/v4FyzZX8MDl4/neiVmBDskY00P5cxRTKZDp8TgD2H6AfWfT0b10uMcaH1XUNvK9v3/BprIaHr5yEucePzDQIRljejB/nkEsB0aISLaIROEkgdc77yQiScC3gNcO91jjux3V9Vwx/zMKK2p57PtTLDkYYw7Jb2cQqtoiIjcD7wDhwAJVXSciN7jb57m7XgwsUdW6Qx3rr1iDXXFlHVf+7XP21Dfz1LUnMDW7b6BDMsb0AqJ6oMsCvU9OTo7m5uYGOowe5audNVz92Oc0t7bx1LUncHyGFd8zxnQQkTxVzfG2ze6kDmKrS6v43oIviAoP44XrT2RE/8RAh2SM6UUsQQSpzwsr+eGTuaTER7Lwh9MYkhoX6JCMMb2MJYgg9NHGMq7/Rx6ZfeN4+ocnMCApJtAhGWN6IUsQQeatNTu49bkVHNs/kaeunWolu40xR8wSRBB5MbeEO19ezaQhKSyYM4U+MZGBDskY04tZgggST3y6hbvfyOeUEWnMv2YycVH2X2uMOTrWivRyqspfP9rM/e9s5Jyx/fnzdycSHREe6LCMMUHAEkQvpqrcu3gD8z8u5JKJg7nPJvoxxnQhSxC9VFub8svX1rLw861cM20ov7lwrM3lYIzpUpYgeqHm1jbueHEVr67czo2nDec/zxlpczkYY7qcJYhepqG5lZ88u4J383dyxzkjbS4HY4zfWILoRfY2tTD3qTw+KajgnovG2lwOxhi/sgTRS1TXN3PtE8tZsXU3f7x8PJdOzgh0SMaYIGcJohfwnOjnr1dNYuZxNpeDMcb/LEH0cDuq67nqsc/ZXlXPY9+fwreOtWlVjTHdwxJED+Y50c8/fngCU7Jsoh9jTPexBNFDeU708+zcaRw32Cb6McZ0L0sQPVD7RD/RETbRjzEmcCxB9DA20Y8xpqewBNGD2EQ/xpiexBJEgDW3tvHhhjKeX17ChxvLGD2wj030Y4zpESxBBEhRRR0v5JbwYl4p5TWN9EuM5sbThnP9t4bbRD/GmB7BrwlCRGYCDwLhwGOqeq+XfU4D/g+IBCpU9Vvu+iKgBmgFWlQ1x5+xdoeG5lbeWfc1z31RwmeFlYQJnD6qH9+ZMoQZI9OtVLcxpkfxW4IQkXDgYeAsoBRYLiKvq2q+xz7JwF+Bmaq6VUT6dXqaGapa4a8Yu8uGr/fw3BclLFqxjer6ZjL7xnLHOSO5dFKGXWcwxvRY/jyDmAoUqGohgIg8B1wE5HvscyXwiqpuBVDVMj/G061qG1t4c9V2nl1ewqqSKqLCwzjnuAHMnpLJicNSbe4GY0yP588EMRgo8XhcCpzQaZ9jgUgR+QhIBB5U1afcbQosEREF5qvqo95eRETmAnMBhgwZ0nXRHwFVZUVJFc9/UcIbq7ezt6mVY/sn8MsLxnDJxMGkxEcFND5jjDkc/kwQ3r4iq5fXnwycAcQCn4nIv1X1K2C6qm53u53eFZENqrr0G0/oJI5HAXJycjo/f7fYXdfEohXbeH55CRt31hAXFc6scYP4ztRMJmYm22Q+xpheyZ8JohTI9HicAWz3sk+FqtYBdSKyFBgPfKWq28HpdhKRRThdVt9IEIHS1qZ8VljJc8tLeGft1zS1tjE+M5nfX3I8s8YPIiHaBogZY3o3f7Ziy4ERIpINbANm41xz8PQa8JCIRABROF1Q/ysi8UCYqta4y2cD9/gxVp/t3NPAS3mlPL+8hK279pIUG8mVJwzhO1MyGT2wT6DDM8aYLuO3BKGqLSJyM/AOzjDXBaq6TkRucLfPU9X1IrIYWA204QyFXSsiw4BFbtdMBPCMqi72V6yH0tLaxkcby3lu+VY+3FhOa5ty4rBUfnr2sZwzdgAxkeGBCs0YY/xGVAPSbe8XOTk5mpub22XPt7VyL8/nbuXF3FLKahpJT4zmsskZfCcnk6y0+C57HWOMCRQRyTvQfWbWUd5JQ3MrS/J38vzyrXxa4NzMNmNkP74zJZMZo/oRaTezGWNChCUI18ava3h+eQmvrCilam8zGSmx/PSsY7k8J9NuZjPGhKSQTxC1jS1c8/fPWbHVuZnt7LH9mT1lCCcNt5vZjDGhLeQTREJ0BEP7xnH+8QO5ZFIGfe1mNmOMASxBAPB/sycGOgRjjOlx7IqrMcYYryxBGGOM8coShDHGGK8sQRhjjPHKEoQxxhivLEEYY4zxyhKEMcYYryxBGGOM8SqoqrmKSDlQfISHpwEVXRhOb2afxf7s89iffR4dguGzGKqq6d42BFWCOBoiknugkrehxj6L/dnnsT/7PDoE+2dhXUzGGGO8sgRhjDHGK0sQHR4NdAA9iH0W+7PPY3/2eXQI6s/CrkEYY4zxys4gjDHGeGUJwhhjjFchnyBEZKaIbBSRAhG5K9DxBJKIZIrIhyKyXkTWicitgY4p0EQkXERWiMibgY4l0EQkWUReEpEN7u/IiYGOKZBE5Hb372StiDwrIkE3eX1IJwgRCQceBs4FxgDfFZExgY0qoFqAn6rqaGAa8OMQ/zwAbgXWBzqIHuJBYLGqjgLGE8Kfi4gMBm4BclT1OCAcmB3YqLpeSCcIYCpQoKqFqtoEPAdcFOCYAkZVd6jql+5yDU4DMDiwUQWOiGQA5wOPBTqWQBORPsCpwN8BVLVJVasCGlTgRQCxIhIBxAHbAxxPlwv1BDEYKPF4XEoIN4ieRCQLmAh8HuBQAun/gP8E2gIcR08wDCgHHne73B4TkfhABxUoqroNeADYCuwAqlV1SWCj6nqhniDEy7qQH/crIgnAy8Btqron0PEEgohcAJSpal6gY+khIoBJwCOqOhGoA0L2mp2IpOD0NmQDg4B4Ebk6sFF1vVBPEKVApsfjDILwNPFwiEgkTnJYqKqvBDqeAJoOXCgiRThdj6eLyNOBDSmgSoFSVW0/o3wJJ2GEqjOBLaparqrNwCvASQGOqcuFeoJYDowQkWwRicK5yPR6gGMKGBERnD7m9ar6p0DHE0iq+nNVzVDVLJzfiw9UNei+IfpKVb8GSkRkpLvqDCA/gCEF2lZgmojEuX83ZxCEF+0jAh1AIKlqi4jcDLyDMwphgaquC3BYgTQduAZYIyIr3XW/UNW3AheS6UF+Aix0v0wVAnMCHE/AqOrnIvIS8CXO6L8VBGHZDSu1YYwxxqtQ72IyxhhzAJYgjDHGeGUJwhhjjFeWIIwxxnhlCcIYY4xXliCM6QFE5DSrGGt6GksQxhhjvLIEYcxhEJGrReQLEVkpIvPd+SJqReSPIvKliLwvIunuvhNE5N8islpEFrn1exCRY0TkPRFZ5R4z3H36BI/5Fha6d+gaEzCWIIzxkYiMBr4DTFfVCUArcBUQD3ypqpOAj4Ffu4c8BdypquOANR7rFwIPq+p4nPo9O9z1E4HbcOYmGYZzZ7sxARPSpTaMOUxnAJOB5e6X+1igDKcc+PPuPk8Dr4hIEpCsqh+7658EXhSRRGCwqi4CUNUGAPf5vlDVUvfxSiAL+MTv78qYA7AEYYzvBHhSVX++30qRX3ba72D1aw7WbdTosdyK/X2aALMuJmN89z5wmYj0AxCRviIyFOfv6DJ3nyuBT1S1GtgtIqe4668BPnbn1ygVkW+7zxEtInHd+SaM8ZV9QzHGR6qaLyL/DSwRkTCgGfgxzuQ5Y0UkD6jGuU4B8H1gnpsAPKufXgPMF5F73Oe4vBvfhjE+s2quxhwlEalV1YRAx2FMV7MuJmOMMV7ZGYQxxhiv7AzCGGOMV5YgjDHGeGUJwhhjjFeWIIwxxnhlCcIYY4xX/x8RahOSYCaqBAAAAABJRU5ErkJggg==\n",
            "text/plain": [
              "<Figure size 432x288 with 1 Axes>"
            ]
          },
          "metadata": {
            "needs_background": "light"
          },
          "output_type": "display_data"
        }
      ],
      "source": [
        "plt.plot(cnn_train_history.history['sparse_categorical_accuracy'])\n",
        "plt.plot(cnn_train_history.history['val_sparse_categorical_accuracy'])\n",
        "plt.title('model accuracy')\n",
        "plt.ylabel('accuracy')\n",
        "plt.xlabel('epoch')\n",
        "plt.legend(['train', 'valid'], loc='upper left')"
      ]
    },
    {
      "cell_type": "code",
      "execution_count": null,
      "id": "upset-contrary",
      "metadata": {
        "id": "upset-contrary",
        "outputId": "afe7b6b5-8ead-47a0-cdd5-cdeb23573973"
      },
      "outputs": [
        {
          "data": {
            "text/plain": [
              "<matplotlib.legend.Legend at 0x7fa15acf7c70>"
            ]
          },
          "execution_count": 39,
          "metadata": {},
          "output_type": "execute_result"
        },
        {
          "data": {
            "image/png": "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\n",
            "text/plain": [
              "<Figure size 432x288 with 1 Axes>"
            ]
          },
          "metadata": {
            "needs_background": "light"
          },
          "output_type": "display_data"
        }
      ],
      "source": [
        "plt.plot(cnn_train_history.history['loss'])\n",
        "plt.plot(cnn_train_history.history['val_loss'])\n",
        "plt.title('model loss')\n",
        "plt.ylabel('accuracy')\n",
        "plt.xlabel('epoch')\n",
        "plt.legend(['train', 'valid'], loc='upper left')"
      ]
    },
    {
      "cell_type": "markdown",
      "id": "gross-going",
      "metadata": {
        "id": "gross-going"
      },
      "source": [
        "### 5-4. Result\n",
        "\n",
        "학습된 모델을 바탕으로 test set을 추론합니다.<br>\n",
        "추론의 결과는 softmax 결과로 나온 확률값을 반환하기 때문에 `argmax`를 통해 클래스를 지정해주어야 합니다.<br> \n"
      ]
    },
    {
      "cell_type": "code",
      "execution_count": null,
      "id": "deluxe-austria",
      "metadata": {
        "id": "deluxe-austria"
      },
      "outputs": [],
      "source": [
        "cnn_result = cnn_model.predict(X_test)\n",
        "cnn_result_class = np.argmax(cnn_result, axis=1)"
      ]
    },
    {
      "cell_type": "code",
      "execution_count": null,
      "id": "familiar-evans",
      "metadata": {
        "id": "familiar-evans",
        "outputId": "1f92662b-23f4-4517-dec0-1684ce48bae8"
      },
      "outputs": [
        {
          "name": "stdout",
          "output_type": "stream",
          "text": [
            "[[2.2277502e-04 1.5425590e-03 8.4765418e-04 ... 1.9533786e-08\n",
            "  1.3536071e-09 9.9705684e-01]\n",
            " [1.3259037e-03 1.2046684e-03 5.7789260e-03 ... 2.2270385e-08\n",
            "  7.4881976e-09 9.8946291e-01]\n",
            " [1.5334196e-03 1.1284042e-03 7.7785933e-03 ... 2.8825990e-08\n",
            "  7.9500957e-09 9.8704565e-01]\n",
            " ...\n",
            " [1.2437508e-03 4.0432950e-04 9.1660820e-04 ... 3.2424850e-06\n",
            "  1.1984251e-08 9.9668783e-01]\n",
            " [2.6295187e-03 5.1037275e-04 4.3637636e-03 ... 3.1452535e-06\n",
            "  5.1560932e-08 9.9079645e-01]\n",
            " [1.7733747e-04 2.0304171e-04 3.2761943e-04 ... 8.7594549e-07\n",
            "  2.7721174e-09 9.9803442e-01]]\n"
          ]
        }
      ],
      "source": [
        "print(cnn_result)"
      ]
    },
    {
      "cell_type": "code",
      "execution_count": null,
      "id": "comic-ticket",
      "metadata": {
        "id": "comic-ticket",
        "outputId": "9afbae65-b3bc-416f-db14-236f9b70383b"
      },
      "outputs": [
        {
          "name": "stdout",
          "output_type": "stream",
          "text": [
            "[13 13 13 ... 13 13 13]\n"
          ]
        }
      ],
      "source": [
        "print(cnn_result_class)"
      ]
    },
    {
      "cell_type": "markdown",
      "id": "revolutionary-collar",
      "metadata": {
        "id": "revolutionary-collar"
      },
      "source": [
        "classification report를 출력합니다. <br>\n",
        "만약 추론 결과값 내에 모든 클래스 (여기서는 0~13 의 14개 클래스)가 포함되어 있다면 class index만 기록된 1-D array를 그대로 사용해도 관게 없습니다. 그러나 우리 데이터와 같이 class imbalance 가 심하여 test set에 모든 클래스가 포함되지 않을 수 있는 경우, label indicator array를 만들어 confusion matix를 계산해야 합니다. <br>\n",
        "`label_binarize` 함수를 통해 쉽게 변환할 수 있습니다."
      ]
    },
    {
      "cell_type": "code",
      "execution_count": null,
      "id": "meaningful-ridge",
      "metadata": {
        "id": "meaningful-ridge"
      },
      "outputs": [],
      "source": [
        "cnn_result_binarized = label_binarize(cnn_result_class, classes = list(symbol_idx_dict.values()))\n",
        "label_test_binarized = label_binarize(label_test, classes = list(symbol_idx_dict.values()))"
      ]
    },
    {
      "cell_type": "code",
      "execution_count": null,
      "id": "balanced-portfolio",
      "metadata": {
        "id": "balanced-portfolio",
        "outputId": "8b0abb10-f828-4190-eb0d-a84013a956fe"
      },
      "outputs": [
        {
          "name": "stdout",
          "output_type": "stream",
          "text": [
            "              precision    recall  f1-score   support\n",
            "\n",
            "           L       0.72      0.83      0.77      2483\n",
            "           R       0.63      0.30      0.40      1644\n",
            "           V       0.96      0.69      0.80      1211\n",
            "           /       0.97      0.97      0.97      2071\n",
            "           A       0.00      0.00      0.00      1767\n",
            "           f       0.00      0.00      0.00         0\n",
            "           F       0.00      0.00      0.00         3\n",
            "           j       0.00      0.00      0.00         1\n",
            "           a       0.00      0.00      0.00         6\n",
            "           E       0.00      0.00      0.00         0\n",
            "           J       0.00      0.00      0.00         0\n",
            "           e       0.00      0.00      0.00         0\n",
            "           S       0.00      0.00      0.00         0\n",
            "           N       0.87      1.00      0.93     17745\n",
            "\n",
            "   micro avg       0.86      0.86      0.86     26931\n",
            "   macro avg       0.30      0.27      0.28     26931\n",
            "weighted avg       0.80      0.86      0.82     26931\n",
            " samples avg       0.86      0.86      0.86     26931\n",
            "\n"
          ]
        }
      ],
      "source": [
        "print(classification_report(label_test_binarized, cnn_result_binarized, target_names=list(idx_symbol_dict.values())))"
      ]
    },
    {
      "cell_type": "markdown",
      "id": "abstract-monitor",
      "metadata": {
        "id": "abstract-monitor"
      },
      "source": [
        "클래스 별 roc curve를 다음과 같이 출력하여 성능을 확인할 수 있습니다.<br>\n",
        "micro averaging을 통해 전체 클래스의 평균 roc 커브를 plotting 합니다."
      ]
    },
    {
      "cell_type": "code",
      "execution_count": null,
      "id": "significant-thunder",
      "metadata": {
        "id": "significant-thunder"
      },
      "outputs": [],
      "source": [
        "fpr = {}\n",
        "tpr = {}\n",
        "thresh = {}\n",
        "roc_auc = {}\n",
        "for i in range(num_classes):\n",
        "    fpr[i], tpr[i], thresh[i] = roc_curve(label_test_binarized[:, i], \n",
        "                                          cnn_result[:,i])\n",
        "    roc_auc[i] = auc(fpr[i], tpr[i])\n",
        "    \n",
        "fpr['micro'], tpr['micro'], thresh['micro'] = roc_curve(label_test_binarized.ravel(), \n",
        "                                                                cnn_result.ravel())\n",
        "roc_auc['micro'] = auc(fpr['micro'], tpr['micro'])        \n",
        "roc_score = roc_auc['micro']"
      ]
    },
    {
      "cell_type": "code",
      "execution_count": null,
      "id": "saving-anime",
      "metadata": {
        "id": "saving-anime",
        "outputId": "ea37bb7f-2a87-40ba-da88-a154c232ea71"
      },
      "outputs": [
        {
          "data": {
            "image/png": "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\n",
            "text/plain": [
              "<Figure size 432x288 with 1 Axes>"
            ]
          },
          "metadata": {
            "needs_background": "light"
          },
          "output_type": "display_data"
        }
      ],
      "source": [
        "plot_fpr, plot_tpr, plot_thresh, plot_roc_auc = (fpr, tpr, thresh, roc_auc)\n",
        "lw=2\n",
        "# Plot all ROC curves\n",
        "plt.figure()\n",
        "\n",
        "colors = cycle(['lightcoral', 'brown', 'sandybrown',\n",
        "                'peru', 'darkorange', 'navajowhite',\n",
        "                'yellow', 'darkkhaki', 'olive', \n",
        "                'lightgreen', 'lime', 'teal',\n",
        "                'aqua', 'lightseagreen', 'deepskyblue',\n",
        "                'cornflowerblue', 'navy', 'slateblue', \n",
        "               'blueviolet', 'plum', 'pink'])\n",
        "\n",
        "for i, ((symbol, symidx), color) in enumerate(zip(symbol_idx_dict.items(), colors)):\n",
        "    plt.plot(plot_fpr[i], plot_tpr[i], color=color, lw=lw,\n",
        "             label='ROC curve of class {} (area = {:.2f})'.format(str(symbol), plot_roc_auc[i]))\n",
        "    \n",
        "plt.plot(plot_fpr[\"micro\"], plot_tpr[\"micro\"],\n",
        "     label='micro-average ROC curve (area = {0:0.2f})'\n",
        "           ''.format(plot_roc_auc[\"micro\"]),\n",
        "     color='deeppink', linestyle=':', linewidth=4)\n",
        "\n",
        "plt.plot([0, 1], [0, 1], 'k--', lw=lw)\n",
        "plt.xlim([0.0, 1.0])\n",
        "plt.ylim([0.0, 1.05])\n",
        "plt.xlabel('False Positive Rate')\n",
        "plt.ylabel('True Positive Rate')\n",
        "plt.legend(loc='center left', bbox_to_anchor=(1, 0.5))\n",
        "plt.show()"
      ]
    },
    {
      "cell_type": "code",
      "execution_count": null,
      "id": "demographic-coating",
      "metadata": {
        "id": "demographic-coating"
      },
      "outputs": [],
      "source": [
        ""
      ]
    }
  ],
  "metadata": {
    "kernelspec": {
      "display_name": "keras",
      "language": "python",
      "name": "lims1_keras"
    },
    "language_info": {
      "codemirror_mode": {
        "name": "ipython",
        "version": 3
      },
      "file_extension": ".py",
      "mimetype": "text/x-python",
      "name": "python",
      "nbconvert_exporter": "python",
      "pygments_lexer": "ipython3",
      "version": "3.8.12"
    },
    "colab": {
      "name": "SNUCM_medical_data_science_ECG_detection.ipynb",
      "provenance": [],
      "include_colab_link": true
    }
  },
  "nbformat": 4,
  "nbformat_minor": 5
}
